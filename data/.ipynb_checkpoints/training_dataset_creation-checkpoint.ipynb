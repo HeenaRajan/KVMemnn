{
 "cells": [
  {
   "cell_type": "code",
   "execution_count": 119,
   "metadata": {
    "collapsed": true
   },
   "outputs": [],
   "source": [
    "import pandas as pd\n",
    "import re\n",
    "f=open(\"./dialogue_key_value/kvret_train_public.json\")\n",
    "#df=pd.read_json(\"./dialogue_key_value/kvret_train_public.json\")\n",
    "df=pd.read_json(\"./dialogue_key_value/kvret_test_public.json\")"
   ]
  },
  {
   "cell_type": "code",
   "execution_count": 120,
   "metadata": {
    "collapsed": true
   },
   "outputs": [],
   "source": [
    "#Knowledgebase cretaion\n",
    "import pandas as pd\n",
    "#f=open(\"./dialogue_key_value/kvret_train_public.json\")\n",
    "#df=pd.read_json(\"./dialogue_key_value/kvret_train_public.json\")\n",
    "colnames=[]\n",
    "for i in range(len(df)):\n",
    "    colnames.append(df[\"scenario\"][i]['kb']['column_names'])\n",
    "#tuples for drive\n",
    "#tuples_d=[('poi','address','val'),('poi','poi_type','val'),('poi','traffic_info','val'),('poi','distance','val')]\n",
    "tuples_d=[('poi','address','val'),('poi','traffic_info','val'),('poi','distance','val')]\n",
    "#tuples for calendar\n",
    "tuples_c=[('event','time','val'),('event','room','val'),('event','party','val'),('event','agenda','val'),('event','date','val')]\n",
    "#tuples for weather\n",
    "tuples_w=[('location','monday','val'),('location','tuesday','val'),('location','wednesday','val'),\n",
    "          ('location','thursday','val'),('location','friday','val'),('location','saturday','val'),\n",
    "          ('location','sunday','val')]\n",
    "kb=[]\n",
    "for i in range(len(df)):\n",
    "    #print(i)\n",
    "    kb_i=[]\n",
    "    if df['scenario'][i]['kb']['items']:\n",
    "        if(df['scenario'][i]['kb']['column_names'][0]==\"poi\"):\n",
    "            for j in range(len(df['scenario'][i]['kb']['items'])):\n",
    "                for k in range(len(tuples_d)):\n",
    "                    tup=[]\n",
    "                    tup.append(df['scenario'][i]['kb']['items'][j][tuples_d[k][0]])\n",
    "                    tup.append(tuples_d[k][1])\n",
    "                    tup.append(df['scenario'][i]['kb']['items'][j][tuples_d[k][1]])\n",
    "                    kb_i.append(tup)\n",
    "            pass\n",
    "        elif(df['scenario'][i]['kb']['column_names'][0]==\"event\"):\n",
    "            for j in range(len(df['scenario'][i]['kb']['items'])):\n",
    "                #tup=[]\n",
    "                for k in range(len(tuples_c)):\n",
    "                    tup=[]\n",
    "                    tup.append(df['scenario'][i]['kb']['items'][j][tuples_c[k][0]])\n",
    "                    tup.append(tuples_c[k][1])\n",
    "                    tup.append(df['scenario'][i]['kb']['items'][j][tuples_c[k][1]])\n",
    "                    kb_i.append(tup)\n",
    "            pass\n",
    "        else:\n",
    "            for j in range(len(df['scenario'][i]['kb']['items'])):\n",
    "                tup=[]\n",
    "                for k in range(len(tuples_w)):\n",
    "                    tup=[]\n",
    "                    tup.append(df['scenario'][i]['kb']['items'][j][tuples_w[k][0]] )\n",
    "                    tup.append(tuples_w[k][1])\n",
    "                    tup.append(df['scenario'][i]['kb']['items'][j][tuples_w[k][1]])\n",
    "                    kb_i.append(tup)\n",
    "            pass\n",
    "    kb.append(kb_i)"
   ]
  },
  {
   "cell_type": "code",
   "execution_count": 121,
   "metadata": {
    "collapsed": false
   },
   "outputs": [],
   "source": [
    "x={'subject':[],'relation':[],'object':[]}\n",
    "for i in kb:\n",
    "    for j in i:\n",
    "        x['subject'].append(j[0])\n",
    "        x['relation'].append(j[1])\n",
    "        x['object'].append(j[0]+'_'+j[2])\n",
    "x=pd.DataFrame(x)\n",
    "x.drop_duplicates(inplace=True)\n",
    "x.to_csv('normalised_kbtuples.csv')\n",
    "print(len(nkb))"
   ]
  },
  {
   "cell_type": "code",
   "execution_count": 122,
   "metadata": {
    "collapsed": false
   },
   "outputs": [],
   "source": [
    "x=pd.DataFrame(x)\n",
    "x.drop_duplicates(inplace=True)"
   ]
  },
  {
   "cell_type": "code",
   "execution_count": 123,
   "metadata": {
    "collapsed": false
   },
   "outputs": [],
   "source": [
    "objects=[]\n",
    "for kb_i in kb:\n",
    "    for ki in kb_i:\n",
    "        objects.append('_'.join(ki[0].split(\" \"))+'_'+ki[1])"
   ]
  },
  {
   "cell_type": "code",
   "execution_count": 124,
   "metadata": {
    "collapsed": false
   },
   "outputs": [
    {
     "data": {
      "text/plain": [
       "False"
      ]
     },
     "execution_count": 124,
     "metadata": {},
     "output_type": "execute_result"
    }
   ],
   "source": [
    "kb[2][0][2].lower() in chats[2][3]"
   ]
  },
  {
   "cell_type": "code",
   "execution_count": 125,
   "metadata": {
    "collapsed": false
   },
   "outputs": [
    {
     "name": "stdout",
     "output_type": "stream",
     "text": [
      "431\n"
     ]
    }
   ],
   "source": []
  },
  {
   "cell_type": "code",
   "execution_count": 9,
   "metadata": {
    "collapsed": false
   },
   "outputs": [],
   "source": [
    "x.to_csv(\"kbtuples.csv\")"
   ]
  },
  {
   "cell_type": "code",
   "execution_count": 126,
   "metadata": {
    "collapsed": false
   },
   "outputs": [],
   "source": [
    "chats=[]\n",
    "chats_complete=[]\n",
    "for i in range(len(df)):\n",
    "    chat=[]\n",
    "    for j in range(len(df.iloc[i][\"dialogue\"])):\n",
    "        chat.append(str(df.iloc[i][\"dialogue\"][j][\"data\"][\"utterance\"]).strip('\"').lower())\n",
    "        chats_complete.append(str(df.iloc[i][\"dialogue\"][j][\"data\"][\"utterance\"]).strip('\"').lower())\n",
    "    chats.append(chat)"
   ]
  },
  {
   "cell_type": "code",
   "execution_count": 127,
   "metadata": {
    "collapsed": false
   },
   "outputs": [
    {
     "name": "stdout",
     "output_type": "stream",
     "text": [
      "482\n"
     ]
    }
   ],
   "source": [
    "count=0\n",
    "for i,(chat,kb_i) in enumerate(zip(chats,kb)):\n",
    "    for j,ch in enumerate(chat):\n",
    "        for ki in kb_i:\n",
    "            if ki[0].lower() in ch:\n",
    "                poi=ki[0].lower()\n",
    "    for j,ch in enumerate(chat):\n",
    "        #print(ch)\n",
    "        for ki in kb_i:\n",
    "            #print(ki)\n",
    "            if ki[0].lower()==poi:\n",
    "                #print(ki,ch)\n",
    "                #print(\"hello\")\n",
    "                if 'day' in ki[1].lower():\n",
    "                    for kki in ki[1].lower().split(\",\"):\n",
    "                        if kki in ch and ki[2].lower()!='home':\n",
    "                            count=count+1\n",
    "                            chats[i][j]=re.sub(kki,'_'.join(ki[0].split(\" \"))+'_'+ki[1],ch)\n",
    "                if ki[2].lower() in ch and ki[2].lower()!='home':\n",
    "                    count=count+1\n",
    "                    chats[i][j]=re.sub(ki[2].lower(),'_'.join(ki[0].split(\" \"))+'_'+ki[1],ch)\n",
    "    #break\n",
    "print(count)"
   ]
  },
  {
   "cell_type": "code",
   "execution_count": null,
   "metadata": {
    "collapsed": false
   },
   "outputs": [],
   "source": [
    "for ki in kb:\n",
    "    for k in ki:\n",
    "        if 'home' in k[0]:\n",
    "            print (k[0],k[1],k[2])"
   ]
  },
  {
   "cell_type": "code",
   "execution_count": 28,
   "metadata": {
    "collapsed": false
   },
   "outputs": [],
   "source": [
    "for chat in chats:\n",
    "    for text in chat:\n",
    "        if 'home#poi' in text:\n",
    "            print(text)\n"
   ]
  },
  {
   "cell_type": "code",
   "execution_count": 47,
   "metadata": {
    "collapsed": false
   },
   "outputs": [
    {
     "data": {
      "text/plain": [
       "True"
      ]
     },
     "execution_count": 47,
     "metadata": {},
     "output_type": "execute_result"
    }
   ],
   "source": [
    "'669 el camino real' in chats[2][3]"
   ]
  },
  {
   "cell_type": "code",
   "execution_count": 55,
   "metadata": {
    "collapsed": false
   },
   "outputs": [
    {
     "data": {
      "text/plain": [
       "'p.f. changs route set to P.F._Changs_address with only P.F._Changs_traffic_info noted. '"
      ]
     },
     "execution_count": 55,
     "metadata": {},
     "output_type": "execute_result"
    }
   ],
   "source": [
    "chats[2][3]"
   ]
  },
  {
   "cell_type": "code",
   "execution_count": null,
   "metadata": {
    "collapsed": false
   },
   "outputs": [],
   "source": [
    "print(kb[0][0][2].lower(),chats[0][1])"
   ]
  },
  {
   "cell_type": "code",
   "execution_count": 128,
   "metadata": {
    "collapsed": false
   },
   "outputs": [],
   "source": [
    "for i in range(len(chats)):\n",
    "    if(len(chats[i])%2!=0):\n",
    "        chats[i]=chats[i][:-1]"
   ]
  },
  {
   "cell_type": "code",
   "execution_count": 52,
   "metadata": {
    "collapsed": true
   },
   "outputs": [],
   "source": [
    "inputs=[]\n",
    "outputs=[]\n",
    "for i in range(len(chats)):\n",
    "    #for j in range(len(chats[i])):\n",
    "        inputs.extend(chats[i][::2])\n",
    "        outputs.extend(chats[i][1::2])"
   ]
  },
  {
   "cell_type": "code",
   "execution_count": 129,
   "metadata": {
    "collapsed": false
   },
   "outputs": [],
   "source": [
    "#FOR ENTIRE CONTEXT\n",
    "inputs=[]\n",
    "outputs=[]\n",
    "for i in range(len(chats)):\n",
    "    sent=''\n",
    "    for j in range(0,len(chats[i]),2):\n",
    "        #print(chats[i][j])\n",
    "        sent+=chats[i][j]+\" \"\n",
    "        inputs.append(sent.strip(\" \"))\n",
    "        outputs.append(chats[i][j+1].strip(\" \"))\n",
    "        sent+=chats[i][j+1]+\" \""
   ]
  },
  {
   "cell_type": "code",
   "execution_count": 130,
   "metadata": {
    "collapsed": false
   },
   "outputs": [
    {
     "name": "stdout",
     "output_type": "stream",
     "text": [
      "809 809\n"
     ]
    }
   ],
   "source": [
    "print(len(inputs),len(outputs))"
   ]
  },
  {
   "cell_type": "code",
   "execution_count": 131,
   "metadata": {
    "collapsed": true
   },
   "outputs": [],
   "source": [
    "#Test set creation\n",
    "ndf=pd.DataFrame()\n",
    "ndf[\"inputs\"]=inputs\n",
    "ndf[\"outputs\"]=outputs\n",
    "ndf.to_csv(\"testing_complete.csv\")"
   ]
  },
  {
   "cell_type": "code",
   "execution_count": 331,
   "metadata": {
    "collapsed": false
   },
   "outputs": [],
   "source": [
    "chats_complete1=[]\n",
    "for c in chats:\n",
    "    for k in c:\n",
    "        chats_complete1.append(k)"
   ]
  },
  {
   "cell_type": "code",
   "execution_count": 10,
   "metadata": {
    "collapsed": false
   },
   "outputs": [],
   "source": [
    "#On flikpkart dataset\n",
    "import pandas as pd\n",
    "df=pd.read_csv(\"../data/train_fk.csv\",encoding=\"latin1\")\n",
    "chats_complete=list(df[\"context\"])\n",
    "chats_complete.extend(list(df[\"resposne\"]))"
   ]
  },
  {
   "cell_type": "code",
   "execution_count": 14,
   "metadata": {
    "collapsed": false
   },
   "outputs": [],
   "source": []
  },
  {
   "cell_type": "code",
   "execution_count": 15,
   "metadata": {
    "collapsed": false
   },
   "outputs": [
    {
     "name": "stderr",
     "output_type": "stream",
     "text": [
      "Using TensorFlow backend.\n"
     ]
    }
   ],
   "source": [
    "from keras.preprocessing.text import Tokenizer\n",
    "t=Tokenizer()\n",
    "t.fit_on_texts(chats_complete)\n",
    "#t.texts_to_sequences(inputs)"
   ]
  },
  {
   "cell_type": "code",
   "execution_count": 59,
   "metadata": {
    "collapsed": false
   },
   "outputs": [],
   "source": [
    "ndf=pd.DataFrame()\n",
    "ndf[\"inputs\"]=inputs\n",
    "ndf[\"outputs\"]=outputs\n",
    "train=ndf[:-500]\n",
    "valid=ndf[5707:]\n",
    "train.to_csv(\"training_complete_new.csv\")\n",
    "valid.to_csv(\"validation_complete_new.csv\")"
   ]
  },
  {
   "cell_type": "code",
   "execution_count": 16,
   "metadata": {
    "collapsed": false
   },
   "outputs": [],
   "source": [
    "vocab=t.word_index\n",
    "#objects=list(set(objects))\n",
    "#objects_norm=list(nkb['object'])\n",
    "#count=1521\n"
   ]
  },
  {
   "cell_type": "code",
   "execution_count": 17,
   "metadata": {
    "collapsed": false
   },
   "outputs": [
    {
     "data": {
      "text/plain": [
       "2902"
      ]
     },
     "execution_count": 17,
     "metadata": {},
     "output_type": "execute_result"
    }
   ],
   "source": [
    "len(t.word_index)"
   ]
  },
  {
   "cell_type": "code",
   "execution_count": 20,
   "metadata": {
    "collapsed": false
   },
   "outputs": [
    {
     "data": {
      "text/plain": [
       "dict_keys(['sir', 'such', \"wasn't\", 'treat', 'havnt', 'fake', 'horrible', \"name'you're\", 'mind', 'reported', 'missing', '\\x91check', 'adresss', 'and\\xa0registered\\xa0mobile\\xa0number', 'booked', '3s', 'pasted', 'tolf', 'interest', 'click', 'delivered', 'before', 'adresssssss', 'abt', 'charged', '3899', 'and', '30days', 'regular', 'below', 'means', '\\xa0i', '27the', 'apology', 'person', 'minute', 'pay', 'walled', 'inspire', 'ridiculous', 'someone', 'hehe', 'held', 'protection', 'happening', 'please', 'ceo', 'minutes', 'confirmed', 'okk', 'she', 'wt', 'placed', 'car', 'completed', 'postpone', 'mumbai', 'city', 'date\\xa0to', 'every', 'sumhw', 'ekrt', 'folder', 'taken', 'section', 'provide', 'relevant', 'fyne', '1', 'resolution', 'pleasant', 'robin', 'coming', 'action', 'egv', 'lbs', 'what', 'semi', 'nofity', 'march', 'accordingly', 'needs', '274', 'policy', 'paste', 'orders', 'fmpc0152033388', 'kerala', 'od506844971563523000', 'kacherakanahalli', 'optn', 'amlideeh', 'located', 'hear', 'corporation', 'guilty', 'body', 'avail', 'seem', 'features', 'mens', 'went', 'dateas', 'canvas', 'job', 'actually', 'on7th', '1800', 'deluxe', 'beacause', 'solid', 'message', 'hell9', 'vll', 'banking', 'shoe', 'juicer', 'conversation', 'sellers', 'oly', 'useded', 'digi', 'manage', 'almost', 'rupess', 'fiscussing', 'hlmduzsyzcztvnma', 'commonly', 'backs', 'arrnage', 'told', 'we\\x92d', 'sorts', 'device', 'colleagues', 'card', 'father', 'ahould', 'idiots', 'there', 'box', 'colg', 'freebies', 'use', 'll', 'ao', 'play', 'yet', 'option', 'screw', 'assistance', 'returened', 'mrp', 'existing', 'again', 'pickup', 'our', 'z', 'shocked', 'carry', 'prepaid', 'deatils', 'informed', 'pass', 'trusted', 'pincode', 'vishakapatnam', 'zero', 'typo', 'wrong', 'part', 'expertise', 'volumes', 'adress', 'montha', 'understanding', 'model', 'faulty', 'estimated', 'decide', 'mrng', 'expect', \"what's\", 'pack', 'surelythank', 'glad', 'ya', 'tag', 'works', 'showimg', 'become', '365', 'in1608282159532773464', 'replies', '00am', 'buy', 'sites', 'best', 'patiala', 'registrations', 'think', 'need', 'thats', 'daysreplacement', 'fk', 'independence', 'generic', 'hey', 'assure', 'nera', 'sbi', 'largest', 'lawyer', 'emails', 'cause', 'woman', 'intention', 'requirements', 'fact', 'gillete', 'filpkart', 'help', 'din', 'working', 'estimation', 'loose', 'magnet', 'redeeming', 'productproduct', 'notified', 'a', 'le', 'hostel', 'holidays', 'station', 'rep', 'welcome', 'inform', 'refunded', 'approaching', 'quite', 'comment', \"today's\", 'es', 'electronic', 'courts', 'reference', 'photographfor', 'mode', 'enhance', 'authentic', 'perfectly', 'co', 'upto', 'verification', 'valid', 'whats', 'than', 'shortly', 'let', 'twice', 'is\\xa0disabled', 'ki', 'unforseen', 'yourself', 'onwards', 'fast', 'used', 'waitt', 'validity', 'rudee', '4days', 'kumar', 'rs10000', 'it', 'helped', 'earring', '31st', 'requests', '249', 'incase', 'always', 'approximate', 'mam', '20', 'acc', 'anokhe', '28', \"wishmaster's\", \"reasons'\", 'aa', 'picked', '4', 'pardon', 'asked', 'wouldve', 'repeated', 'sooo', \"back'\", 'inconvenience', 'mad', '09', 'fatstly', 'sudden', 'sept', 'tractors', 'available', 'enquiry', 'fasting', 'reattempt', 'fur', 'reciept', 'handle', 'pushed', 'expire', 'second', 'must', 'flipcart', 'month', 'thing', 'uninstallation', 'ful', 'aft', \"i'll\", 'equipment', 'mokshi', 'fighting', 'simply', 'meet', 'raccount', 'little', 'dnt', 'numbers', 'period', 'please\\xa0confirm\\xa0for', 'link', 'mistake', 'bank', 'company', 'confirm', '2mrw', 'receipt', 'wht', 'spec', 'processing', '353085031577993119', \"'flipkart\", '2or', 'saf', 'dupatta', 'studds', 'sentiment', 'name\\xa0has', '8', 'aditya', 'consideration', \"seller's\", '08', 'kanan', 'travancore', 'spam', 'random', 'password', 'mp', 'purchase', 'even', 'cheating', '\\xa0we', 'ca', \"o'clock\", 'applied', '08039511256', 'in1608282354093939468', 'opted', 'multicolor', 'story', 'happens', 'by', 'postponed', 'going', 'understood', 'college', 'document', 'likely', 'taking', 'busy', 'confirming', 'noon', 'procedures', 'true', 'dont', '7893178820', 'name\\xa0', 'sc', 'friend', 'jaden', 'reimbursement', 'page', 'hard', 'replacements', 'anyway', 'daily', 'identification', 'material', 'looking', 'cash', 'bt', '15', 'amandeep', 'one', 'centre', 'tht', 'isnt', 'area', 'already', 'timing', '298', \"they'll\", 'tomorow', 'supports', 'guaranteed', 'answered', 'previously', 'column', 'fmpp0058896397', 'just', 'frm', \"'unforseen\", 'done', 'words', '1020686977785366105', 'wanna', 'due', 'ones', 'yes', 'happened', 'invited', 'wonderful', 'beg', 'gurdaspur', '9k', 'your', 'spending', 'stains', 'photo', 'shipping', 'create', 'hiii', 'wont', 'regret', 'regrading', '1195', 'chose', 'dependent', 'accounts', '43', 'ago', '1068', 'intitated', 'tat', 'playing', 'recently', 'hoskote', 'matter', 'connection', 'shte7b8bnu4kqp3z', 'else', 'memory', 'shit', 'shown', 'weeks', 'rregarding', 'wondering', 'employe', 'acknowledgement', 'delivering', 'somehow', 'transfer', '3gb', 'redmi', 'tears', 'without', 'tempered', 'nw', 'st', 'ekart', 'appointment', 'user', '33238831849', 'thanq', 'may', 'shiebymsfxyhkqfa', 'date\\r', 'is\\xa0completed', 'leading', 'lot', 'validty', 'at', 'whichever', 'georgette', 'important', 'mention', 'automatically', 'status', 'cool', 'intiated', 'expiry', \"i've\", 'redimi', 'today', 'seeing', 'hours', 'wed', 'adjustment', 'defntly', 'ryt', 'compensation', 'executive', 'normal', 'buying', 'don', 'office', 'them', 'nike', '2r', 'clicking', 'postponing', 'stay', 'item', 'ignored', 'dress', 'useful', 'lights', 'dishearten', 'bluedart', 'thank', 'engineers', 'resolved', \"let's\", 'med', 'moment', 'reliance', 'alway', 'rudeness', 'solve', 'reviewed', 'tshegajfphnpy98a', 'ye', 'rejected', 'brought', 'manager', 'question', 'clarification', 'dome', 'clicks', 'down', 'loosing', 'took', 'us', 'delayed', 'changed', '999', 'listening', 'vizag', 'rebooting', 'hii', 'transaction', 'do', 'tis', '12lbs', '17th', 'however', 'umount', 'cst', 'waited', 'made', 'remains', 'copy', 'hum', 'correct', 'wiould', 'bro', 'peyment', '7th', 'replcemnt', 'past', 'reopen', 'chk', 'to', 'vary', \"couldn't\", 'pr', '\\xa0back', 'utilized', 'duplicate', 'signaling', 'gn', 'system', 'sakhivel', 'assurence', 'as\\xa0mentioned\\xa0the', 'blindly', 'managers', 'date', 'indore', 'dpot', 'typed', 'update', 'tmrw', 'blore', 'services', 'switching', \"c's\", 'size', 'social', 'finger', 'daadline', 'sday', 'tfhef5dnpqwfqpzp', 'required', 'further', 'which', 'rto', 'delivery', \"\\xa0i'm\", 'businesshours', 'originally', 'od506751782292034000', 'manger', 'handover', 'either', 'an', 'thx', 'bcoz', 'surprisingly', 'assisting', 'spend', 'nhi', 'visiting', 'real', 'verifying', 'snapshot', 'monkey', 'log', 'any', 'shop', 'undergone', 'replace', 'compulsory', 'product', 'xavier', 'arn', 'uapdeted', 'k5', 'authorized', 'yup', 'though', 'root', 'reflects', 'edappally', 'collected', 'lift', 'pick', 'covers', 'spots', 'account', 'activate', 'gc', 'refer', 'fabulous', 'rite', \"'order\", 'scree', 'seal', 'mera', 'cs', 'net', 'askd', 'ne', 'uninstall', 'alsooo', 'esculated', \"that's\", 'fo', 'stitches', 'strict', 'idea', 'immediately', 'to\\xa0cancel\\xa0this', 'timings', 'started', 'leave', 'to\\xa0inform\\xa0you', 'kids', 'advised', 'unable', 'name', 'personally', 'chat', 'labels', 'oders', 'captured', 'thrown', 'customer', 'issues', 'itself', 'dd', 'fool', 'shipment', 'book', 'authenticity', '\\xa0refund', 'mass', 'thanks', 'knows', 'faced', 'gdnun', 'awesome', 'ohh', 'instance', 'head', 'shall', 'ohhh', 'certify', 'sticker', 'taluk', 'purpose', 'hmm', 'wish', '25', 'flipped', 'through', 'txt', 'mod', 'the', 'these', 'pink', 'mentioned', 'arrangement', '185', 'elsee', 'fed', '500', 'but', 'tags', '9', 'home', 'iron', 'contact', 'repeatedly', 'assist', 'verified', 'far', 'mandate', 'visited', 'noted', 'amountplus', 'properly', 'called', 'iphone', 'showroom', 'tv', 'sit', 'later', 'sometime', 'closed', 'mch', 'higher', 'choose', '208', 'phonepe', 'brands', '11am', '10days', 'stick', 'assigned', 'gift', 'new', 'terms', '\\xa0you', 'f0ks1ka178510', 'template', 'connect', 'hellow', 'we', 'snap', 'didnt', 'nice', 'remain', 'price', 'panic', 'expired', 'reattempted', 'reset', 'amt', 'those', 'additional', 'supporting', 'maked', '7', 'feedback', 'easily', 'should', 'movement', 'the\\xa0cancellation', 'ships', 'fareedha', 'state', 'follow', 'addresss', 'money', 'referred', 'offer', 'trouble', 'turned', 'withdrawn', 'kong', 'return', 'prime', 'tracking', 'allahabad', 'paid', 'picup', 'sake', '2', 'latest', 'udupi', 'prommise', 'code', 'print', \"men's\", 'returned', 'eve', 'messge', '15sept', 'fix', 'backup', 'records', 'stages', 'receipts', 'okie', 'customercare', 'address', 'comfort', 'payback', 'wy', 'badly', 'promising', 'typeas', 'exceeds', 'give', 'responding', 'it\\x92ll', '00', 'times', 'prompt', 'steps', 'the\\xa0delay', 'highlighting', 'confident', 'final', 'corporate', 'ready', 'department', 'also', 'toll', 'shipped', 'me', 'is', 'least', 'theproduct', 'sale', 'loan', 'salwar', 'depending', 'brother', 'k', 'reaching', 'discourage', 'red', 'platform', 'believing', 'accept', 'raised', 'lenovo', 'mate', 'callback', 'helpless', 'stop', 'checking', 'inspite', 'with', 'much', 'dead', 'heating', 'deliveredto', 'goku', 'revert', 'withinrefund', 'impossible', 'knw', 'hr', 'retured', 'database', \"'call\", 'monday', 'produt', 'reject', 'moreover', 'find', 'created', 'personal', 'voice', 'vgd', 'act', 'kk', 'amazon', '32gb', 'incident', 'damages', 'escalation', 'along', '\\xa0as', 'wildcra', 'min', 'agree', \"orders'\", 'market', 'mmm', 'bless', 'fr', 'false', 'sms', 'software', 'b', 'pepe', '\\xa0our', 'otherwise', 'prefer', 'black', 'typing', 'record', 'preferred', 'dealdine', 'that\\xa0order', 'rithesth', 'tnx', 'di', 'informatiom', 'recieving', 'wished', 'chennai', 'feel', 'tomo', 'decision', 'angry', 'anytime', 'youyour', '\\xa0resolution', 'w', 'amount', 'issuws', 'accont', 'nothin', 'when', 'knowledge', 'store', 'passed', 'accepting', 'cards', 'discussing', 'boy', 'reund', 'zte', 'transferred', '504985535', 'take', 'proud', 'attach', 'irritate', 'specialist', 'forced', 'cuff', 'court', 'ifsc', 'informing', 'it\\x92s', 'partner', 'certainly', 'yaar', 'approximately', 'tap', \"isn't\", 'ends', 'noo', 'sure', 'few', 'reactive', 'neft', 'deadline', 'lg', 'half', '00000067129903769bank', 'or', 'applicable', 'vinay', 'standard', 'milta', 'mchs', 'appreciated', 'credit', 'unline', 'greater', '24hrs', 'earliest', 'stucks', '4626', \"he's\", 'aaccount', 'bank\\x92s', '9th', 'selling', 'consult', 'progress', 'complaints', 'date\\xa0you\\xa0will', 'sister', 'karnataka', 'modify', 'kindly', 'access', 'sskefyaz4235jvjz', 'delievery', '5th', 'couriers', 'years', 'visible', 'ph', 'cotton', 'shot', 'provided', 'amout', 'friends', 'mistakly', 'providing', 'reasolution', 'samsung', 'holder', 'style', '69452772535', 'respond', 'neither', 'traces', 'case', 'push', 'report', 'foam', 'recd', 'some', 'none', 'finally', 'starts', 'cooper', 'sad', 'messaged', 'related', 'official', 'women', 'reward', 'thankyou', 'sort', 'sincere', 'match', 'regarding', 'changes', 'same', 'canceled', 'language', 'oh', 'undelivered', 'frame', 'team', \"you\\xa0haven't\\xa0received\\xa0your\", 'incurred', 'length', 'occasion', 'selected', 'wlcm', 'putyourself', 'helmets', '200rs', 'necessary', 'count', 'in1609060938481993028', 'resolve', 'ios', 'manufacturing', 'havent', 'back', 'prioritize', 'unforeseen', 'transfered', 'bring', '00000057016054729', 'flipkart', 'noticed', 'doesnt', 'technical', 'article', 'believe', 'generally', 'active', 'chargers', 'superviser', 'activation', 'kind', 'disucssing', 'grab', 'i', 'initiated', 'hurry', 'jst', 'hapen', 'multi', 'side', 'okkie', 'wait', 't', 'apologize', 'dat', 'non', 'gud', 'free', 'happen', '5thsep', 'men', 'assurance', 'nonsence', 'anmol', 'overlap', 'approved', 'virtual', \"you've\", '7pm', '2016', 'hold', 'using', 'choosing', '1986', \"i'd\", 'confusion', 'complaining', 'excuse', 'packed', 'dad', 'shaving', 'detailsi', 'miscommunication', 'bkpekszncqsvghxg', 'everyone', 'ididnt', 'wadia', 'p', 'could', 'mobile', 'sending', 'officer', 'respect', 'resin', 'delay', 'fpr', 'procedure', 'tension', 'initiation', '30am', 'beging', 'dude', 'patience', 'noting', '10', 'bluffing', 'deliverd', 'except', 'offers', 'noone', 'wednesday', '10000', '27th', 'complain', 'cannot', 'join', 'shared', 'thatthe', 'weird', 'nbis0nnnnn', 'confirms', 'magnifier', 'agm', 'respective', 'flipkarts', 'prodct', 'requesting', 'approach', 'approve', '21', 'you\\x92ll', 'intentions', 'might', '27', 'beck', 'add', 'refond', \"doesn't\", 'mange', '1600rs', 'notify', 'alla0212521', 'befor', \"you'll\", '1100rs', 'malafide', 'pieces', 'ur', 'suit', 'experience', 'basic', 'intimating', '0', 'tellin', '10k', 'ws', 'warehouse', '6th', 'undetached', '100', 'promised', 'pending', 'comes', 'tranvcorebranch', 'lee', 'receiving', 'somewhere', 'indiaacc', 'tell', '22nd', 'depends', 'opinion', 'nit', 'solution', 'cin', '\\r', 'week', 'love', 'history', '673001', 'www', '\\x93payment', 'promotional', 'wall', 'dey', 'generous', 'zenfone', 'sizing', 'sincerely', \"didn't\", 'expectations', 'directly', 'that', 'deepa', 'family\\x92s', 'shut', 'quick', 'saw', 'farheeda', 'reading', 'rd', 'offer\\xa0applied\\xa0to', 'lite', 'logistics', 'ishould', 'forwarding', 'sunglasses', 'funny', 'street', 'inferior', '07025282527', 'habib', 'around', 'actulyy', 'ever', 'koshta', 'hour', 'till', 'indicate', 'exchanging', 'whitefield', 'gd', 'doubt', 'gmng', 'reachable', 'shoes', 'wtf', 'you', 'ion', 'msgs', 'mm', 'bcz', 'giving', 'list', 'afraid', 'review', 'specification', 'credited', 'shud', 'into', 'totally', 'good', '000100101044501', 'surface', 'asus', 'promoting', 'recovered', 'missed', 'require', '\\xa0customer', 'tq', 'shots', 'norms', 'insane', 'guarantee', 'persist', 'did', 'remaing', 'infact', 'sunday', 'within', 'remember', 'ka', '231', 'matters', 'serum', 'creat', 'how', 'giku', 'charger', 'other', 'apply', 'profession', 'conducted', 'asking', 'planning', 'repeat', 'puduct', 'discomfort', 'yyy', 'detail', 'stitched', 'ediat', 'correspondence', 'away', 'utr', 'wanted', 'fkrt', 'wise', 'possibility', 'torn', 'followed', 'mis', 'attempt', 'repalce', 'suggest', '262', 'consider', 'big', 'voucher', 'chatting', '9701268817', '6', 'here', 'thnq', 'original', 'fulfill', 'meanwhile', 'manushri', 'tc', 'detsils', 'late', 'registered', 'incomplete', '5sept', 'blocked', 'nonsense', 'vishwanath', 'poor', 'storage', 'progarammes', 'ive', 'myself', 'choosen', 'pls', 'difficult', 'cell', 'complained', 'earphone', 'games', 'eligible', \"me'\", 'attracted', 'email', 'decided', 'cheque', 'write', 'send', 'certain', \"product's\", '8th', '\\xa0this', 'source', 'select', 'corp0000001', 'mercantile', 'approval', 'colour', 'reason', 'preferences', 'hope', 'facts', 'birthday', 'limited', 'watch', 'fill', 'g', 'invalid', 'brank', 'havea', 'lack', 'knowing', '41', 'fine', 'availability', 'courier', 'strong', 'gyuz', 'concrete', 'white', 'thr', '14th', 'launching', 'parents', 'mfg', 'ltd', 'murder', 'arranging', 'fmpp0059100339', 'reached', 'trust', 'have', 'hanging', 'declaration', 'him', '64186262242ifsc', 'dispatch', \"bank's\", 'priority', 'gve', 'fixed', 'acknowledged', 'dumb', 'incorrect', 'haunt', 'raipur', 'image', 'dis', 'satisfied', 'disheartened', 'e', 'disappointment', 'travel', 'recieced', 'recived', 'above', 'long', 'unresolved', 'tried', 'earlier', 'confidence', 'mny', 'heyyyyy', 'bought', \"technician's\", 'ok', 'bacl', 'damaged', 'commit', 'track', 'loss', 'box\\xa0with', 'sunglass', 'valuable', 'returning', 'dtdc', 'lunch', 'exchange', 'malakpet', 'withdrawal', 'recieve', 'caused', 'rude', 'september', 'special', 'com', 'we\\x92ll', 'sling', 'residence', 'worry', 'ignore', '\\xa0a', 'trace', 'brand', 'fare', 'toward', 'inbox', 'tak', 'response', 'na', \"assured'\", 'knew', 'discounts', 're', 'master', '795', 'added', 'town', 'messages', 'mismatched', 'refernce', '3126', '1st', 'citi', 'od506793867758856001', 'spoke', 'information', 'ave', 'mmmm', 'init', 'mailbid', 'from', 'talking', 'expected', 'backpack', 'alright', 'sales', 'fair', 'government', 'reattempting', 'total', 'waalet', 'confirmation', '23rd', '55158450622', 'the\\xa0refund', \"haven't\", 'came', '8days', 'verry', 'cancel', 'v', 'shirt', 'facing', 'confirmations', 'explain', '16', '554', 'complex', 'open', 'details', 'elaborate', 'country', '2nd', 'off', 'in1609161300257242676', 'frustration', 'fmpr0021392257', 'acknowledge', 'whn', 'flame', 'packaging', 'pla', 'had', 'beforecallback', 'shaping', 'studd', 'picks', '919702131936', 'accnt', 'chatted', 'curse', '\\xa0if', 'pushing', 'mouthful', 'flip', 'adter', 'fahqnnnnn', 'un', 'plz', 'undertaking', 'sorry', 'visit', 'founders', 'wat', \"'\", 'end', 'tomorrow', 'cod', 'window', 'wide', 'successfully', \"weren't\", '48', 'helpful', 'cooperation', 'concerning', 'hai', 'collections', 'speech', 'aviator', 'cbi', 'tym', \"id'\", 'operate', 'fir', 'prabha', 'against', 'reassurance', 'wishes', 'lucknow', 'iwill', 'uncomfortable', 'data', 'while', 'go', 'uh', 'large', 'nt', 'web', 'employee', 'king', 'plesse', 'fas', 'perform', \"it'll\", \"day's\", 'stock', 'current', 'near', 'work', 'file', 'gotten', 'statement', 'better', 'road', 'max', 'exception', 'type', 'anybody', 'early', 'msg', 'color', 'takung', 'clear', 'hiiiii', \"you're\", 'flipkar', 'no', 'forget', 'ebna9nnnnn', 'to\\xa0proceed\\xa0for', '91', 'paying', 'waste', 'mails', 'vouhcer', 'chats', '30', 'as', 'small', 'commitment', 'bi', 'numb', 'refused', '86598376', 'deleiverd', 'location', 'hang', 'puma', 'communication', 'in1608281856146799909', 'dented', 'worng', 'youi', 'suggested', 'idiotic', 'unfortunately', 'text', 'attend', 'kuppam', 'up', 'useless', 'mobiles', 'arrived', 'tardeo', 'any1', 'anf', '00000057016054729bank', 'package', 'of', 'branded', 'crossed', 'todya', 'vigilance', 'making', 'error', 'friday', 'h', 'doctor', '0000211', 'credited185', 'anu', 'course', 'combined', 'meaning', '12pm', 'sareghrnkvyuytj8', 'nthng', 'wts', '1week', 'gum', '5880', 'house', 'urgently', 'particular', 'was', 'lost', 'referral', 'mandar', 'quickly', 'rating', 'charges', 'their', 'begins', 'selfie', 'getting', 'tl', 'yu', 'able', 'national', 'largely', 'thought', 'now', 'nafessa', 'raj', 'form', 'returns', 'fruitful', 'doing', 'kept', 'o', 'hub', 'qty', 'suppose', 'opened', 'last', 'constantly', 'replacement', 'seems', 'aug', 'shuld', 'partners', 'blue', 'across', 'building', 'proharmmes', '26', 'info', '549', 'tshedqeascpfzeuy', 'mom', 'situation', 'amount\\xa0for', 'guy', 'amd', 'login', 'painting', 'atleast', 'can', 'exit', 'putted', 'serve', 'mean', 'teust', 'convey', 'infrom', 'put', 'operative', 'fila', 'main', 'agent', '17', 'breathing', 'fresh', 'reflecting', 'regard', 'flowers', 'retain', '24', 'currently', 'china', 'reach', 'something', 'definitely', 'wildcraft', 'counted', 'refuses', 'processed', 'origin', 'august', 'therefore', 'rs555', 'tel', 'check', 'apologise', 'uploading', 'escalating', 'faster', 'troubleshooting', 'bodhan', 'looks', 'sorted', 'factory', 'rebooted', 'more', 'bye', 'sbmy0041029bank', 'gm', 'pm', 'specifics', 'charge', 'simple', '24hours', 'point', 'program', 'unclear', 'fakekart', 'selecting', '300', 'cancellation', 'catch', 'set', 'careless', 'is\\xa0canceled\\xa0by\\xa0yourself', 'way', 'spoken', 'waif', 'starting', 'inside', 'similar', 'who', 'india', '\\xa0', 'issue', 'electrical', 'right', 'english', 'oki', 'said', 'found', 'outside', 'mail', 'plus', 'alternate', 'galaxy', 'on\\xa0refund', 'door', 'alternatively', 'channel', \"dad's\", 'gaurantee', 'your\\xa0refund', 'beenprocessed', 'not', 'notice', 'different', 'andhrapradesh', 'debited', 'preponed', 'leaving', 'are', 'share', '3rd', 'refund\\x94', 'night', 'operation', \"partner's\", 'kannada', 'contacting', 'claim', 'only', 'per', 'paper', '10th', 'cancelled', 'statment', 'reverse', 'assured', 'da', 'notifications', 'quires', 'present', 'close', 'this', 'calling', 'yesterday', 'rupees', 'does', 'tricks', 'kochi', 'possible', 'bad', 'percent', 'bangalore', 'hasnt', '1s', 'probs', 'consumer', 'testing', 'probl', 'accommodate', 'rs', 'tn', 'escalate', 'about', 'purchaser', \"accounts'\", 'pucjup', 'continue', 'casual', 'irritated', 'fidato', '06', 'pes', 'tampered', 'define', 'creation', 'compatibility', 'hence', 'handing', 'howcome', 'fit', 'options', 'ravi', 'whether', 'clarify', 'campaign', 'http', 'navallur', 'single', 'confused', 'hello9ooooo', 'order', 'emailed', 'okay', 'sometimes', 'know', 'method', 'ossut', 'frustrated', 'cost', 'purchases', 'whole', 'resent', 'members', 'despote', \"you'd\", 'otp', 'products', 'received', 'becoz', 'warranty', 'nobody', 'dr', 'amounthas', 'abusive', '6pm', 'colony', 'shd', 'asoonas', 'billing', 'in1608271622468222247', 'buyer', 'often', '59000735812', 'dedicated', 'globalepartner', 'holes', 'quary', 'advice', \"customer's\", 'rest', \"'assurances'\", '29', 'chief', 'hlo', 'alzo', 'erase', 'ugly', 'm', 'agents', 'manner', 'unavailable', 'shopping', 'gng', 'executives', 'worst', 'receive', 'app', 'has', 'helo', 'low', 'failed', 'okaythank', 'query', 'kart', 'bill', 'both', 'vimal', 'design', '22', 'pic', 'recieved', 'expecting', 'cancelling', 'availability\\x92', 'team\\xa0is', 'ppl', 'tham', 'behalf', \"'product\", 'oder', 'typewithin', 'refuse', 'following', 'aaa', 'datacard', 'which1', 'usually', 'then', 'yaaa', 'arranged', 'yess', 'slip', 'online', 'r', 'im', '2days', 'shoulder', 'ma', 'sections', 'various', 'general', 'ill', 'seeand', 'himself', 'although', 'needed', 'shooting', 'been', 'wallet', 'bringing', 'exact', '42', 'thatz', 'specially', 'row', 'left', '500036', 'gdnyt', 'showing', 'previous', 'customers', 'lodged', 'onhold', 'stating', 'clearly', 'ids', 'originality', 'autofurnish', 'say', 'control', 'hav', 'ii', 'appreciate', 'techician', 'surprise', 'touch', 'chattisgarh', 'cashback', 'miss', 'sent', 'yeah', 'her', 'ip', 'holiday', 'reversed', '6999', 'debit', 'transparently', 'input', 'happy', 'hrs', 'token', 'enough', 'sbtr0000218', 'show', 'technician', 'serious', 'sakthivel', 'mental', 'post', 'media', 'notes', 'honestly', 'varify', 'my', 'u', 'why', 'the\\xa0acknowledgment', 'super', 'seen', 'd', \"shouldn't\", '200', 'have\\xa0received\\xa0it\\xa0in', 'waiting', 'kannan', 'problem', 'embarrassed', 'additonal', 'aaya', 'towards', 'level', 'supplies', 'quality', 'rather', 'block', 'chating', 'internet', 'sine', 'fulwadiwala', 'room', 'thnk', 'highjacked', 'complaint', 'kurta', 'medical', 'bleed', 'issuing', 'its', 'receved', 'mounted', 'phones', 'refunded\\xa0amount', 'bear', '122', 'insisting', 'neteotks', 'club', 'process', 'future', 'od506773963262423000', 'hands', 'expedite', 'gave', 'irder', 'morning', '422', 'amountwill', 'assistant', 'satisfaction', 'purely', 'cant', 'glass', 'showsorder', 'please\\xa0do', 'cl', 'siting', 'tamil', 'instead', 'notification', 'xactly', 'convenience', 'cross', 'sharing', 'dishonesty', 'great', 'serviceable', 'too', 'get', 'months', 'undamaged', 'shows', 'hjrefggzxbg6usqv', 'condition', 'soon', 'want', 'sides', 'keep', 'prblm', 'complete', 'diff', 'jhansi', 'failing', 'withe', '90', 'wana', 'jargons', 'updated', 'remove', 'le1s', 'eating', 'podsible', 'result', 'extra', 'recommend', \"we'd\", 'own', 'very', 'seller', 'conclusion', 'dedign', 'disappointing', 'guys', 'mood', 'scratches', 'got', 'successful', 'favour', '6s', 'flaw', 'time', 'advertise', 'f1', 'family', 'desktop', 'each', 'shootings', 'plzz', 'be', 'verify', 'cing', 'faith', 'immedately', 'okayi', 'promises', 'worried', 'hand', 'companys', 'carton', 'lodge', 'eliza', 'after', 'concern', 'bandh', 'read', 'unless', 'initiating', 'via', 'unit', 'solved', 'rate', 'doubtful', 'alphabet', '6plus', 'maam', 'claiming', 'c', 'dates', 'guard', 'next', 'look', 'huge', 'being', 'inthis', 'highway', 'trur', 'desired', 'written', '25th', '11', 'make', '793003', \"don't\", 'forfeited', 'names', 'try', 'accessories', 'replacment', 'aproach', 'promise', 'stage', 'couple', 'internal', 's', 'kurthi', 'note', '353085031577993127', 'mercury', 'ensure', 'public', 'legal', 'dec', 'vishwanathan', 'self', 'wrapper', 'ivrs', 'days', 'would', 'says', 'fetch', \"hasn't\", 'remaining', 'unprofessional', 'th', 'surely', 'rathish', 'extremely', 'dhanlakshmi', 'urgent', 'picking', 'forward', 'they\\x92ve', 'download', '5', 'improve', 'lie', 'rufunded', 'syeda', 'interested', 'y', 'start', 'where', 'website', '40', \"'od'\", 'whoever', 'redeem', 'wishmaster', 'fmpp0058908097', 'recipe', 'turning', 'rid', 'phone', 'alternative', 'reply', 'i\\x92ll', 'still', 'vipulkumar', 'opening', 'feature', 'view', 'courrier', 'lookingv', 'opportunities', 'we\\x92re', 'place', 'aug29', 'fail', 'greatly', 'opportunity', 'repeating', 'tmorow', 'displeasure', 'idono', 'hair', 'since', 'buddy', 'until', 'neglect', 'quieres', 'included', 'satisfy', 'helping', '33217443896ifsc', 'expense', 'packet', 'lenth', 'byeeee', 'eyesight', 'cooperate', 'scheduled', 'care', 'f', 'svazduuuun', 'will', 'mouth', \"god's\", 'replaced', 'deliver', 'empathy', 'encash', 'sweatshirt', 'defect', 'apologies', 'completion', 'initiate', 'many', 'gogals', '5876rs', 'bur', 'normally', 'request', 'three', 'gb', 'screenshot', 'initial', 'answer', 'advance', 'tnk', 'neighbor', '9898', 'falsifying', 'checked', 'notifying', 'chargesheet', 'telling', 'i\\x92m', '295100050302219', 'day', 'sim', 'okiii', 'beneficiary', 'refundamount', 'beginning', 'welcm', 'fillied', 'becoming', 'upfront', 'trying', 'requested', 'unsuccessful', 'rahul', 'reaches', 'bunch', 'disappointed', 'massage', 'gone', 'doorstep', '603103', 'exhausted', 'quit', 'competitors', 'actully', 'line', 'ru', 'dubash', 'items', '03', 'anythng', 'hd', 'devices', 'exactly', 'jehan', 'unused', '3days', 'engine', 'fedup', 'oo', 'laptop', 'chosen', 'alone', 'supplier', 'digital', 'ha', 'invoice', 'perfect', \"'notify\", 'praveen', 'ask', 'piece', 'submit', 'ware', 'destination', 'pinku', 'in', 'on', 'smart', 'bag', 'worth', 'collect', 'friend\\x92s', 'lol', 'concerned', 'business', 'see', '\\xa0issue', 'evening', '1100', 'thereafter', 'god', 'upset', 'queries', '2683', 'yo', 'wear', 'combine', 'arrange', '12', 'cover', '84', 'srt', 'stringent', '\\xa0it', 'number', 'lead', 'choice', '14', 'scanned', 'coordinate', 'mi', 'accessory', 'problems', 'bck', 'sufficient', 'sell', '9573209223', '24th', 'return\\xa0and', 'according', 'landmark', 'buyers', 'dear', '32', 'cache', 'needful', 'dissatisfaction', 'accountable', 'resive', 'pleasure', 'october', 'deposited', 'power', \"list\\xa0you're\", 'phonenumber', 'scratch', 'helmet', 'under', 'sold', 'ah', 'avi', 'chang', 'native', 'face', '09880980554', 'kavi', 'well', 'hardly', 'disappoint', 'fulfilled', 'consignment', 'whts', '19th', 'indicated', 'i\\xa0apologize', 'pin', '30th', '1010704381949745700', 'sbin0001810', 'changing', 'presently', 'n', 'statustoday', 'enquire', 'they', 'rha', 'raise', 'compromise', 'nothing', 'greetings', 'refund', 'imagine', 'high', 'logging', 'most', 'adotya', 'kochiifsc', '1010676021289924100', 'longgg', 'air', 'hurrry', '918067', 'updating', 'dispose', 'ypu', 'malayalam', '\\xa0within', 'mini', 'deliverable', '492001', 'easy', 'pickupadress', 'ordinate', 'support', 'dint', 'site', 'branch', 'barred', '2000', 'center', 'activated', '20th', 'name\\xa0\\xa0will', 'bengaluru', 'includes', 'goes', 'whom', 'reflect', 'immediate', 'regional', '65', '31', 'sealed', 'pasting', 'rejecte', 'ship', 'hyderabad', 'apki', 'spot', 'long\\xa0process', 'lakshmi', 'entered', 'tech', 'given', 'never', 'proceed', 'dent', 'poda', 'simultaneously', 'iam', 'parcel', 'hello', \"can't\", 'tensed', 'prepone', 'itanagar', 'once', 'equal', 'reson', 'invite', 'anything', 'ky', 'corner', 'his', 'af', 'payment', 'syedaa', 'plastic', 'farm', 'ganesha', 'guide', 'siva', 'servicr', 'lines', 'escalated', \"'my\", 'maybe', 'mr', 'pit', 'prabhavathi', 'tamilnad', 'supposed', 'soo', 'so', 'specific', 'tranvcore', 'wasnt', 'atm', 'charging', 'reorder', 'understand', 'guyz', 'opt', 'referring', \"we'll\", 'because', 'bigger', 'munshi', 'ordered', 'importance', 'resend', 'call', 'he', 'change', '\\xa0your', 'evng', 'were', '559', 'purchased', 'amountwas', 'crap', 'saying', 'l', 'lyf', 'man', 'sunny', 'contacted', 'sorely', 'rail', 'lavie', 'by\\xa0resolution', 'gogoi', 'causing', '3d', 'resived', 'absolutely', '26the', 'automated', 'out', 'screen', 'schedule', 'updates', 'afternoon', 'service', 'heard', 'two', 'defective', 'entire', \"i'm\", 'promsie', 'nd', 'balance', 'mng', 'for', 'replying', 'proof', 'computer', 'step', 'another', 'ua', 'switch', 'holder\\x92s', 'format', 'saved', 'tmbl0000295', 'deleting', 'reschedule', 'refunf', 'in1608120654251564981', 'first', 'thq', '3880', 'flipkat', \"we're\", 'duffle', 'if', 'bymistake', 'dealeye', 'highly', 'come', 'id', 'fun', 'cheat', 'sep', '55', 'colleague', 'showed', 'banks', 'anyhow', 'flipkard', 'mysore', 'lu', 'am', 'filthy', '3', 'reflected', 'sign', 'avoid', 'stupid', 'exchnage', 'broken', 'hassle', 'rakhis', 'all', \"man's\", '6days', 'during', 'wid', 'gets', 'that\\xa0the', 'slow', \"we've\", 'people', 'polaris', 'doubts', 'installation', 'damage', 'dated', 'follows', 'dropping', 'nahi', 'couriercharges', 'requirement', 'switches', 'devpuri', 'like', 'earphones', 'laser', 'between', 'takes', 'triggered', 'gives', 'forever', 'supply', 'responsibility', 'calls', '34', 'custopmer', 'completely', \"it's\", '\\xa0instead', 'gagan', 'member', 'rithesh', 'cart', 'over', 'savings', 'upload', 'nail', 'speak', 'experiencing', 'really', 'llrefund', 'hell', 'reserved', 'identity', 'wo', 'gi', 'range', 'eco', 'entering', 'unsencererity', 'pair', 'destiantion', 'questions', 'hi', 'resolves', 'canceld', 'babu', 'judicial', '29th', 'eventhough', 'nearest', 'unhappy', 'sanction', 'reinstate', 'quarrel', 'quantity', 'things', 'enlarger', 'chrges', 'heat', 'extended', 'comtact', 'glowrina', 'fear', 'attitude', 'acknowledgment', 'ballance', 'ahead', 'attempts', 'wsr', 'wer', 'having', 'kinda', 'allowing', 'anyone', \"'return'\", '560067', 'old', 'placing', 'snapdeal', '72', \"won't\", 'thanx', 'transit', 'leaves', 'floor', \"'priority'\", 'yday', 'everytime', '4444', 'sssssssssssssss', 'full', 'facilitate'])"
      ]
     },
     "execution_count": 20,
     "metadata": {},
     "output_type": "execute_result"
    }
   ],
   "source": [
    "vocab.keys()"
   ]
  },
  {
   "cell_type": "code",
   "execution_count": 67,
   "metadata": {
    "collapsed": false
   },
   "outputs": [],
   "source": [
    "for k,v in vocab.items():\n",
    "    vocab[k]=v+431"
   ]
  },
  {
   "cell_type": "code",
   "execution_count": 84,
   "metadata": {
    "collapsed": false
   },
   "outputs": [],
   "source": [
    "#count=0\n",
    "for obj in objects:\n",
    "    vocab[obj]=count\n",
    "    count=count+1\n",
    "vocab[\"<unk>\"]=count+1\n",
    "vocab[\"<eos>\"]=count+1"
   ]
  },
  {
   "cell_type": "code",
   "execution_count": 90,
   "metadata": {
    "collapsed": false
   },
   "outputs": [],
   "source": [
    "for k,v in vocab.items():\n",
    "    vocab[k]=v-1"
   ]
  },
  {
   "cell_type": "code",
   "execution_count": 70,
   "metadata": {
    "collapsed": false
   },
   "outputs": [
    {
     "ename": "NameError",
     "evalue": "name 'objects_norm' is not defined",
     "output_type": "error",
     "traceback": [
      "\u001b[1;31m---------------------------------------------------------------------------\u001b[0m",
      "\u001b[1;31mNameError\u001b[0m                                 Traceback (most recent call last)",
      "\u001b[1;32m<ipython-input-70-4d96efeaa7ee>\u001b[0m in \u001b[0;36m<module>\u001b[1;34m()\u001b[0m\n\u001b[1;32m----> 1\u001b[1;33m \u001b[0mlen\u001b[0m\u001b[1;33m(\u001b[0m\u001b[0mobjects_norm\u001b[0m\u001b[1;33m)\u001b[0m\u001b[1;33m\u001b[0m\u001b[0m\n\u001b[0m",
      "\u001b[1;31mNameError\u001b[0m: name 'objects_norm' is not defined"
     ]
    }
   ],
   "source": []
  },
  {
   "cell_type": "code",
   "execution_count": 21,
   "metadata": {
    "collapsed": false
   },
   "outputs": [
    {
     "name": "stdout",
     "output_type": "stream",
     "text": [
      "{'sir': 100, 'such': 623, \"wasn't\": 1747, 'treat': 2698, 'havnt': 1527, 'fake': 578, 'horrible': 1219, \"name'you're\": 2507, 'mind': 1603, 'reported': 1675, 'missing': 733, '\\x91check': 2009, 'adresss': 1297, 'and\\xa0registered\\xa0mobile\\xa0number': 2252, 'booked': 1884, '3s': 387, 'pasted': 626, 'tolf': 2592, 'interest': 1180, 'click': 1626, 'delivered': 149, 'before': 220, 'adresssssss': 1934, 'abt': 967, 'charged': 655, '3899': 1829, 'and': 11, '30days': 2432, 'regular': 1970, 'below': 461, 'means': 490, '\\xa0i': 2664, '27the': 2588, 'apology': 720, 'person': 303, 'minute': 86, 'pay': 645, 'walled': 2817, 'inspire': 2213, 'ridiculous': 2549, 'someone': 871, 'hehe': 2849, 'held': 1062, 'protection': 1446, 'happening': 1008, 'please': 21, 'ceo': 2005, 'minutes': 425, 'confirmed': 277, 'okk': 2112, 'she': 1598, 'wt': 576, 'placed': 358, 'car': 2388, 'completed': 458, 'postpone': 1294, 'mumbai': 837, 'city': 2102, 'date\\xa0to': 2409, 'every': 742, 'sumhw': 2310, 'ekrt': 1819, 'folder': 1087, 'taken': 284, 'section': 801, 'provide': 310, 'relevant': 698, 'fyne': 2444, '1': 357, 'resolution': 58, 'pleasant': 2290, 'robin': 445, 'coming': 388, 'action': 727, 'egv': 1958, 'lbs': 1158, 'what': 83, 'semi': 1835, 'nofity': 2508, 'march': 1914, 'accordingly': 1399, 'needs': 1484, '274': 2482, 'policy': 316, 'paste': 1936, 'orders': 375, 'fmpc0152033388': 2182, 'kerala': 1321, 'od506844971563523000': 2238, 'kacherakanahalli': 1315, 'optn': 2313, 'amlideeh': 2095, 'located': 1112, 'hear': 189, 'corporation': 1389, 'guilty': 2075, 'body': 992, 'avail': 2612, 'seem': 2357, 'features': 1793, 'mens': 2534, 'went': 917, 'dateas': 2083, 'canvas': 2047, 'job': 1667, 'actually': 800, 'on7th': 2462, '1800': 2493, 'deluxe': 1802, 'beacause': 2175, 'solid': 1287, 'message': 186, 'hell9': 1602, 'vll': 514, 'banking': 279, 'shoe': 957, 'juicer': 2530, 'conversation': 1069, 'sellers': 588, 'oly': 1933, 'useded': 1232, 'digi': 1021, 'manage': 2142, 'almost': 2503, 'rupess': 2228, 'fiscussing': 2214, 'hlmduzsyzcztvnma': 2855, 'commonly': 1710, 'backs': 977, 'arrnage': 1380, 'told': 217, 'we\\x92d': 2700, 'sorts': 2207, 'device': 1216, 'colleagues': 1573, 'card': 253, 'father': 942, 'ahould': 2235, 'idiots': 2525, 'there': 40, 'box': 144, 'colg': 1798, 'freebies': 2880, 'use': 291, 'll': 1543, 'ao': 2722, 'play': 1766, 'yet': 206, 'option': 280, 'screw': 1309, 'assistance': 851, 'returened': 2374, 'mrp': 2714, 'existing': 2757, 'again': 162, 'pickup': 62, 'our': 45, 'z': 2203, 'shocked': 1856, 'carry': 2739, 'prepaid': 1457, 'deatils': 2450, 'informed': 809, 'pass': 2472, 'trusted': 2090, 'pincode': 945, 'vishakapatnam': 1764, 'zero': 1463, 'typo': 909, 'wrong': 287, 'part': 1203, 'expertise': 978, 'volumes': 2477, 'adress': 637, 'montha': 1816, 'understanding': 239, 'model': 735, 'faulty': 974, 'estimated': 390, 'decide': 1572, 'mrng': 1428, 'expect': 435, \"what's\": 430, 'pack': 940, 'surelythank': 1665, 'glad': 436, 'ya': 395, 'tag': 2821, 'works': 868, 'showimg': 2372, 'become': 2200, '365': 2537, 'in1608282159532773464': 1246, 'replies': 2351, '00am': 2028, 'buy': 536, 'sites': 2321, 'best': 347, 'patiala': 2190, 'registrations': 560, 'think': 562, 'need': 93, 'thats': 1514, 'daysreplacement': 1880, 'fk': 1174, 'independence': 2246, 'generic': 686, 'hey': 1341, 'assure': 154, 'nera': 1535, 'sbi': 474, 'largest': 2353, 'lawyer': 1119, 'emails': 2167, 'cause': 2891, 'woman': 1637, 'intention': 2633, 'requirements': 2658, 'fact': 795, 'gillete': 2037, 'filpkart': 1715, 'help': 29, 'din': 1651, 'working': 176, 'estimation': 545, 'loose': 2807, 'magnet': 1745, 'redeeming': 2489, 'productproduct': 1932, 'notified': 283, 'a': 9, 'le': 227, 'hostel': 1207, 'holidays': 1848, 'station': 1855, 'rep': 1110, 'welcome': 237, 'inform': 126, 'refunded': 353, 'approaching': 1505, 'quite': 1353, 'comment': 467, \"today's\": 2000, 'es': 933, 'electronic': 1697, 'courts': 2308, 'reference': 305, 'photographfor': 1879, 'mode': 778, 'enhance': 1693, 'authentic': 1162, 'perfectly': 989, 'co': 257, 'upto': 1029, 'verification': 2479, 'valid': 1384, 'whats': 1838, 'than': 190, 'shortly': 706, 'let': 81, 'twice': 1441, 'is\\xa0disabled': 2337, 'ki': 2862, 'unforseen': 1723, 'yourself': 1911, 'onwards': 1555, 'fast': 329, 'used': 468, 'waitt': 1369, 'validity': 661, 'rudee': 2619, '4days': 2567, 'kumar': 1267, 'rs10000': 952, 'it': 17, 'helped': 1630, 'earring': 1979, '31st': 1413, 'requests': 639, '249': 2413, 'incase': 1187, 'always': 410, 'approximate': 2086, 'mam': 315, '20': 987, 'acc': 2502, 'anokhe': 2732, '28': 2250, \"wishmaster's\": 1868, \"reasons'\": 1568, 'aa': 535, 'picked': 225, '4': 475, 'pardon': 1393, 'asked': 683, 'wouldve': 1437, 'repeated': 2294, 'sooo': 1379, \"back'\": 2215, 'inconvenience': 139, 'mad': 2827, '09': 961, 'fatstly': 1251, 'sudden': 1632, 'sept': 1329, 'tractors': 2092, 'available': 228, 'enquiry': 929, 'fasting': 927, 'reattempt': 640, 'fur': 2856, 'reciept': 2577, 'handle': 643, 'pushed': 1326, 'expire': 2697, 'second': 2395, 'must': 1171, 'flipcart': 1414, 'month': 792, 'thing': 334, 'uninstallation': 678, 'ful': 2796, 'aft': 2535, \"i'll\": 168, 'equipment': 2094, 'mokshi': 1285, 'fighting': 1033, 'simply': 396, 'meet': 1331, 'raccount': 1621, 'little': 1139, 'dnt': 872, 'numbers': 2111, 'period': 1005, 'please\\xa0confirm\\xa0for': 2720, 'link': 409, 'mistake': 434, 'bank': 131, 'company': 753, 'confirm': 115, '2mrw': 1796, 'receipt': 241, 'wht': 2383, 'spec': 2329, 'processing': 1183, '353085031577993119': 1130, \"'flipkart\": 1593, '2or': 1985, 'saf': 1840, 'dupatta': 2280, 'studds': 2486, 'sentiment': 1081, 'name\\xa0has': 2604, '8': 583, 'aditya': 274, 'consideration': 2447, \"seller's\": 887, '08': 1885, 'kanan': 2702, 'travancore': 1743, 'spam': 1086, 'random': 1473, 'password': 2638, 'mp': 1036, 'purchase': 667, 'even': 202, 'cheating': 1030, '\\xa0we': 2109, 'ca': 1950, \"o'clock\": 2653, 'applied': 840, '08039511256': 2070, 'in1608282354093939468': 2381, 'opted': 1387, 'multicolor': 1882, 'story': 537, 'happens': 838, 'by': 55, 'postponed': 1597, 'going': 625, 'understood': 1096, 'college': 1209, 'document': 1169, 'likely': 2040, 'taking': 824, 'busy': 1423, 'confirming': 465, 'noon': 936, 'procedures': 594, 'true': 2317, 'dont': 774, '7893178820': 530, 'name\\xa0': 2082, 'sc': 1896, 'friend': 1691, 'jaden': 2857, 'reimbursement': 2682, 'page': 1032, 'hard': 1477, 'replacements': 2678, 'anyway': 669, 'daily': 754, 'identification': 1109, 'material': 1610, 'looking': 817, 'cash': 702, 'bt': 1234, '15': 1270, 'amandeep': 2187, 'one': 104, 'centre': 2580, 'tht': 2150, 'isnt': 1126, 'area': 857, 'already': 102, 'timing': 906, '298': 2770, \"they'll\": 599, 'tomorow': 1386, 'supports': 2690, 'guaranteed': 1965, 'answered': 1114, 'previously': 1118, 'column': 1982, 'fmpp0058896397': 1842, 'just': 87, 'frm': 1818, \"'unforseen\": 1567, 'done': 134, 'words': 880, '1020686977785366105': 2220, 'wanna': 1333, 'due': 296, 'ones': 2831, 'yes': 67, 'happened': 620, 'invited': 2625, 'wonderful': 2254, 'beg': 1111, 'gurdaspur': 2191, '9k': 2053, 'your': 10, 'spending': 737, 'stains': 2883, 'photo': 1452, 'shipping': 370, 'create': 830, 'hiii': 1720, 'wont': 2186, 'regret': 597, 'regrading': 1057, '1195': 2265, 'chose': 2312, 'dependent': 2632, 'accounts': 1676, '43': 803, 'ago': 2211, '1068': 2125, 'intitated': 2668, 'tat': 964, 'playing': 1079, 'recently': 2198, 'hoskote': 1316, 'matter': 886, 'connection': 2276, 'shte7b8bnu4kqp3z': 2829, 'else': 116, 'memory': 2480, 'shit': 2473, 'shown': 2543, 'weeks': 2259, 'rregarding': 2049, 'wondering': 1365, 'employe': 1061, 'acknowledgement': 1047, 'delivering': 1249, 'somehow': 1396, 'transfer': 1142, '3gb': 1689, 'redmi': 456, 'tears': 2885, 'without': 339, 'tempered': 2729, 'nw': 1115, 'st': 1930, 'ekart': 1070, 'appointment': 1261, 'user': 1358, '33238831849': 1862, 'thanq': 921, 'may': 156, 'shiebymsfxyhkqfa': 2436, 'date\\r': 2542, 'is\\xa0completed': 2366, 'leading': 1700, 'lot': 320, 'validty': 1780, 'at': 79, 'whichever': 2601, 'georgette': 2278, 'important': 440, 'mention': 2797, 'automatically': 2461, 'status': 163, 'cool': 1374, 'intiated': 1874, 'expiry': 1521, \"i've\": 356, 'redimi': 2412, 'today': 39, 'seeing': 598, 'hours': 312, 'wed': 2717, 'adjustment': 2744, 'defntly': 2869, 'ryt': 400, 'compensation': 1783, 'executive': 1023, 'normal': 1493, 'buying': 1587, 'don': 2399, 'office': 659, 'them': 196, 'nike': 1113, '2r': 1746, 'clicking': 1744, 'postponing': 676, 'stay': 2474, 'item': 151, 'ignored': 1730, 'dress': 2242, 'useful': 2110, 'lights': 797, 'dishearten': 1259, 'bluedart': 1955, 'thank': 70, 'engineers': 1702, 'resolved': 179, \"let's\": 839, 'med': 1797, 'moment': 336, 'reliance': 1536, 'alway': 2315, 'rudeness': 2154, 'solve': 618, 'reviewed': 1103, 'tshegajfphnpy98a': 2850, 'ye': 2424, 'rejected': 810, 'brought': 522, 'manager': 330, 'question': 1485, 'clarification': 2074, 'dome': 2591, 'clicks': 2033, 'down': 1188, 'loosing': 2397, 'took': 1528, 'us': 260, 'delayed': 670, 'changed': 442, '999': 1475, 'listening': 1905, 'vizag': 596, 'rebooting': 1449, 'hii': 864, 'transaction': 1554, 'do': 47, 'tis': 2666, '12lbs': 1149, '17th': 2406, 'however': 354, 'umount': 1230, 'cst': 2773, 'waited': 908, 'made': 402, 'remains': 2219, 'copy': 381, 'hum': 1763, 'correct': 278, 'wiould': 1929, 'bro': 345, 'peyment': 2300, '7th': 2001, 'replcemnt': 1805, 'past': 866, 'reopen': 2793, 'chk': 2463, 'to': 4, 'vary': 2387, \"couldn't\": 767, 'pr': 1127, '\\xa0back': 2642, 'utilized': 1795, 'duplicate': 2528, 'signaling': 1019, 'gn': 2685, 'system': 1488, 'sakhivel': 646, 'assurence': 2195, 'as\\xa0mentioned\\xa0the': 2038, 'blindly': 2091, 'managers': 2559, 'date': 50, 'indore': 1035, 'dpot': 2646, 'typed': 1196, 'update': 138, 'tmrw': 1065, 'blore': 1244, 'services': 687, 'switching': 757, \"c's\": 1044, 'size': 384, 'social': 860, 'finger': 812, 'daadline': 2622, 'sday': 2249, 'tfhef5dnpqwfqpzp': 2867, 'required': 399, 'further': 352, 'which': 98, 'rto': 546, 'delivery': 90, \"\\xa0i'm\": 2603, 'businesshours': 1709, 'originally': 701, 'od506751782292034000': 2323, 'manger': 1088, 'handover': 716, 'either': 1661, 'an': 106, 'thx': 690, 'bcoz': 1487, 'surprisingly': 1947, 'assisting': 427, 'spend': 2052, 'nhi': 1734, 'visiting': 2741, 'real': 2674, 'verifying': 2677, 'snapshot': 525, 'monkey': 2734, 'log': 2236, 'any': 60, 'shop': 2775, 'undergone': 1091, 'replace': 394, 'compulsory': 603, 'product': 13, 'xavier': 486, 'arn': 2350, 'uapdeted': 2710, 'k5': 1145, 'authorized': 2902, 'yup': 321, 'though': 1569, 'root': 2890, 'reflects': 1964, 'edappally': 1269, 'collected': 1274, 'lift': 1222, 'pick': 61, 'covers': 2056, 'spots': 2356, 'account': 92, 'activate': 1830, 'gc': 1853, 'refer': 2813, 'fabulous': 515, 'rite': 1910, \"'order\": 2140, 'scree': 2746, 'seal': 157, 'mera': 2020, 'cs': 741, 'net': 2085, 'askd': 1429, 'ne': 1893, 'uninstall': 1576, 'alsooo': 1898, 'esculated': 2327, \"that's\": 208, 'fo': 1116, 'stitches': 1540, 'strict': 1993, 'idea': 2226, 'immediately': 729, 'to\\xa0cancel\\xa0this': 1784, 'timings': 1295, 'started': 1494, 'leave': 600, 'to\\xa0inform\\xa0you': 1633, 'kids': 1638, 'advised': 2431, 'unable': 193, 'name': 28, 'personally': 819, 'chat': 269, 'labels': 2876, 'oders': 2456, 'captured': 1170, 'thrown': 2500, 'customer': 36, 'issues': 785, 'itself': 730, 'dd': 966, 'fool': 1946, 'shipment': 593, 'book': 403, 'authenticity': 2204, '\\xa0refund': 2411, 'mass': 980, 'thanks': 72, 'knows': 1599, 'faced': 1969, 'gdnun': 1012, 'awesome': 2006, 'ohh': 1994, 'instance': 2818, 'head': 1052, 'shall': 572, 'ohhh': 2295, 'certify': 994, 'sticker': 743, 'taluk': 1317, 'purpose': 895, 'hmm': 1085, 'wish': 615, '25': 1176, 'flipped': 2662, 'through': 478, 'txt': 1739, 'mod': 2096, 'the': 1, 'these': 437, 'pink': 2355, 'mentioned': 589, 'arrangement': 2371, '185': 1852, 'elsee': 2709, 'fed': 773, '500': 2378, 'but': 42, 'tags': 383, '9': 787, 'home': 454, 'iron': 1921, 'contact': 180, 'repeatedly': 1334, 'assist': 161, 'verified': 2258, 'far': 539, 'mandate': 2762, 'visited': 799, 'noted': 1412, 'amountplus': 2464, 'properly': 1022, 'called': 423, 'iphone': 844, 'showroom': 2044, 'tv': 947, 'sit': 2234, 'later': 547, 'sometime': 449, 'closed': 1231, 'mch': 1347, 'higher': 1420, 'choose': 941, '208': 2494, 'phonepe': 2785, 'brands': 2699, '11am': 1757, '10days': 2609, 'stick': 2689, 'assigned': 863, 'gift': 364, 'new': 120, 'terms': 2145, '\\xa0you': 1995, 'f0ks1ka178510': 2309, 'template': 2164, 'connect': 2002, 'hellow': 1562, 'we': 26, 'snap': 1037, 'didnt': 692, 'nice': 641, 'remain': 1440, 'price': 647, 'panic': 2888, 'expired': 1881, 'reattempted': 2667, 'reset': 856, 'amt': 1433, 'those': 1957, 'additional': 2889, 'supporting': 2019, 'maked': 2859, '7': 627, 'feedback': 503, 'easily': 2892, 'should': 171, 'movement': 1652, 'the\\xa0cancellation': 2721, 'ships': 2693, 'fareedha': 2134, 'state': 629, 'follow': 586, 'addresss': 1899, 'money': 117, 'referred': 2627, 'offer': 739, 'trouble': 955, 'turned': 1410, 'withdrawn': 2898, 'kong': 2333, 'return': 46, 'prime': 841, 'tracking': 703, 'allahabad': 2585, 'paid': 385, 'picup': 2268, 'sake': 752, '2': 322, 'latest': 2136, 'udupi': 1768, 'prommise': 2061, 'code': 635, 'print': 574, \"men's\": 1206, 'returned': 224, 'eve': 1577, 'messge': 1867, '15sept': 2421, 'fix': 1741, 'backup': 1482, 'records': 422, 'stages': 2838, 'receipts': 2557, 'okie': 2870, 'customercare': 1281, 'address': 66, 'comfort': 2243, 'payback': 2296, 'wy': 2505, 'badly': 2314, 'promising': 1915, 'typeas': 2894, 'exceeds': 2335, 'give': 97, 'responding': 1628, 'it\\x92ll': 194, '00': 1803, 'times': 605, 'prompt': 1561, 'steps': 679, 'the\\xa0delay': 1073, 'highlighting': 1609, 'confident': 2331, 'final': 869, 'corporate': 1108, 'ready': 462, 'department': 1684, 'also': 153, 'toll': 2617, 'shipped': 556, 'me': 16, 'is': 8, 'least': 823, 'theproduct': 2506, 'sale': 268, 'loan': 928, 'salwar': 2279, 'depending': 2080, 'brother': 595, 'k': 451, 'reaching': 1464, 'discourage': 2348, 'red': 554, 'platform': 1888, 'believing': 1500, 'accept': 649, 'raised': 460, 'lenovo': 1953, 'mate': 519, 'callback': 222, 'helpless': 913, 'stop': 1839, 'checking': 238, 'inspite': 2514, 'with': 24, 'much': 235, 'dead': 816, 'heating': 1492, 'deliveredto': 2756, 'goku': 2737, 'revert': 750, 'withinrefund': 2900, 'impossible': 1292, 'knw': 1690, 'hr': 1416, 'retured': 1906, 'database': 884, \"'call\": 2547, 'monday': 1782, 'produt': 2800, 'reject': 1004, 'moreover': 1045, 'find': 338, 'created': 660, 'personal': 1727, 'voice': 1480, 'vgd': 2241, 'act': 1255, 'kk': 1344, 'amazon': 1289, '32gb': 2596, 'incident': 762, 'damages': 1876, 'escalation': 1121, 'along': 262, '\\xa0as': 2410, 'wildcra': 2724, 'min': 1498, 'agree': 654, \"orders'\": 2104, 'market': 1944, 'mmm': 2758, 'bless': 2299, 'fr': 1193, 'false': 2054, 'sms': 993, 'software': 2143, 'b': 653, 'pepe': 2440, '\\xa0our': 2373, 'otherwise': 1300, 'prefer': 1679, 'black': 2645, 'typing': 1242, 'record': 292, 'preferred': 1186, 'dealdine': 1068, 'that\\xa0order': 2129, 'rithesth': 2428, 'tnx': 2866, 'di': 2273, 'informatiom': 2623, 'recieving': 1617, 'wished': 1191, 'chennai': 2571, 'feel': 565, 'tomo': 446, 'decision': 1332, 'angry': 2860, 'anytime': 842, 'youyour': 1666, '\\xa0resolution': 1736, 'w': 1708, 'amount': 113, 'issuws': 1608, 'accont': 2188, 'nothin': 2852, 'when': 107, 'knowledge': 1724, 'store': 1565, 'passed': 1924, 'accepting': 2484, 'cards': 756, 'discussing': 302, 'boy': 784, 'reund': 2581, 'zte': 2343, 'transferred': 2178, '504985535': 1908, 'take': 82, 'proud': 2067, 'attach': 665, 'irritate': 2659, 'specialist': 881, 'forced': 2307, 'cuff': 1978, 'court': 1236, 'ifsc': 1574, 'informing': 1517, 'it\\x92s': 1972, 'partner': 471, 'certainly': 258, 'yaar': 1975, 'approximately': 1674, 'tap': 2105, \"isn't\": 766, 'ends': 1104, 'noo': 1523, 'sure': 101, 'few': 1173, 'reactive': 2149, 'neft': 1616, 'deadline': 94, 'lg': 1403, 'half': 806, '00000067129903769bank': 1671, 'or': 51, 'applicable': 2791, 'vinay': 1431, 'standard': 288, 'milta': 2426, 'mchs': 1143, 'appreciated': 516, 'credit': 404, 'unline': 2834, 'greater': 1635, '24hrs': 765, 'earliest': 273, 'stucks': 1524, '4626': 2457, \"he's\": 1497, 'aaccount': 1268, 'bank\\x92s': 2725, '9th': 2354, 'selling': 1998, 'consult': 1981, 'progress': 2318, 'complaints': 1247, 'date\\xa0you\\xa0will': 1198, 'sister': 2153, 'karnataka': 1318, 'modify': 831, 'kindly': 205, 'access': 2578, 'sskefyaz4235jvjz': 2687, 'delievery': 1175, '5th': 1508, 'couriers': 2297, 'years': 1857, 'visible': 2648, 'ph': 412, 'cotton': 2606, 'shot': 695, 'provided': 332, 'amout': 1426, 'friends': 768, 'mistakly': 2364, 'providing': 521, 'reasolution': 2899, 'samsung': 1919, 'holder': 1772, 'style': 2513, '69452772535': 2651, 'respond': 1107, 'neither': 1641, 'traces': 925, 'case': 207, 'push': 1476, 'report': 2419, 'foam': 1991, 'recd': 2384, 'some': 245, 'none': 1807, 'finally': 1397, 'starts': 2138, 'cooper': 2046, 'sad': 1999, 'messaged': 1756, 'related': 1322, 'official': 2209, 'women': 1548, 'reward': 2626, 'thankyou': 2620, 'sort': 1472, 'sincere': 1454, 'match': 2639, 'regarding': 178, 'changes': 1345, 'same': 118, 'canceled': 789, 'language': 1136, 'oh': 804, 'undelivered': 970, 'frame': 1811, 'team': 38, \"you\\xa0haven't\\xa0received\\xa0your\": 2731, 'incurred': 2683, 'length': 2326, 'occasion': 1735, 'selected': 2029, 'wlcm': 1681, 'putyourself': 1928, 'helmets': 2487, '200rs': 2127, 'necessary': 1071, 'count': 2340, 'in1609060938481993028': 2536, 'resolve': 191, 'ios': 2446, 'manufacturing': 2057, 'havent': 1742, 'back': 68, 'prioritize': 1418, 'unforeseen': 1221, 'transfered': 1977, 'bring': 769, '00000057016054729': 1717, 'flipkart': 57, 'noticed': 1779, 'doesnt': 1851, 'technical': 693, 'article': 2878, 'believe': 526, 'generally': 2790, 'active': 2166, 'chargers': 2711, 'superviser': 2003, 'activation': 2600, 'kind': 203, 'disucssing': 1547, 'grab': 2305, 'i': 2, 'initiated': 173, 'hurry': 2579, 'jst': 2414, 'hapen': 1713, 'multi': 1092, 'side': 325, 'okkie': 2552, 'wait': 108, 't': 673, 'apologize': 450, 'dat': 758, 'non': 2679, 'gud': 510, 'free': 1144, 'happen': 231, '5thsep': 2420, 'men': 1636, 'assurance': 463, 'nonsence': 1510, 'anmol': 2723, 'overlap': 944, 'approved': 342, 'virtual': 2016, \"you've\": 1048, '7pm': 1642, '2016': 875, 'hold': 557, 'using': 420, 'choosing': 289, '1986': 1447, \"i'd\": 308, 'confusion': 2338, 'complaining': 1375, 'excuse': 2520, 'packed': 990, 'dad': 825, 'shaving': 1990, 'detailsi': 2566, 'miscommunication': 1471, 'bkpekszncqsvghxg': 1790, 'everyone': 2165, 'ididnt': 2443, 'wadia': 1350, 'p': 1095, 'could': 216, 'mobile': 80, 'sending': 443, 'officer': 903, 'respect': 2661, 'resin': 1588, 'delay': 301, 'fpr': 2799, 'procedure': 398, 'tension': 1157, 'initiation': 433, '30am': 962, 'beging': 2630, 'dude': 2759, 'patience': 218, 'noting': 2754, '10': 369, 'bluffing': 2675, 'deliverd': 2319, 'except': 1058, 'offers': 2780, 'noone': 1542, 'wednesday': 1658, '10000': 788, '27th': 2766, 'complain': 2004, 'cannot': 771, 'join': 1084, 'shared': 582, 'thatthe': 2454, 'weird': 2548, 'nbis0nnnnn': 1844, 'confirms': 585, 'magnifier': 2825, 'agm': 1306, 'respective': 1102, 'flipkarts': 1215, 'prodct': 2656, 'requesting': 2846, 'approach': 1777, 'approve': 697, '21': 1368, 'you\\x92ll': 1740, 'intentions': 2303, 'might': 715, '27': 1018, 'beck': 1749, 'add': 832, 'refond': 2598, \"doesn't\": 335, 'mange': 2248, '1600rs': 2670, 'notify': 1194, 'alla0212521': 2587, 'befor': 2064, \"you'll\": 1698, '1100rs': 2805, 'malafide': 2302, 'pieces': 1949, 'ur': 349, 'suit': 2119, 'experience': 538, 'basic': 1002, 'intimating': 2218, '0': 2184, 'tellin': 2115, '10k': 776, 'ws': 2417, 'warehouse': 199, '6th': 924, 'undetached': 2879, '100': 1694, 'promised': 1154, 'pending': 2828, 'comes': 807, 'tranvcorebranch': 1672, 'lee': 2045, 'receiving': 732, 'somewhere': 2392, 'indiaacc': 2694, 'tell': 137, '22nd': 1415, 'depends': 2783, 'opinion': 1854, 'nit': 2475, 'solution': 783, 'cin': 488, '\\r': 1335, 'week': 628, 'love': 2156, 'history': 602, '673001': 2008, 'www': 1272, '\\x93payment': 2451, 'promotional': 1760, 'wall': 1229, 'dey': 2517, 'generous': 2779, 'zenfone': 879, 'sizing': 2281, 'sincerely': 648, \"didn't\": 214, 'expectations': 2706, 'directly': 1083, 'that': 6, 'deepa': 2812, 'family\\x92s': 2263, 'shut': 2433, 'quick': 466, 'saw': 2025, 'farheeda': 1869, 'reading': 1241, 'rd': 1704, 'offer\\xa0applied\\xa0to': 2128, 'lite': 2197, 'logistics': 2430, 'ishould': 2672, 'forwarding': 2152, 'sunglasses': 1771, 'funny': 1845, 'street': 1351, 'inferior': 1971, '07025282527': 2183, 'habib': 2767, 'around': 323, 'actulyy': 2324, 'ever': 845, 'koshta': 1878, 'hour': 1474, 'till': 234, 'indicate': 2718, 'exchanging': 988, 'whitefield': 1313, 'gd': 564, 'doubt': 775, 'gmng': 2680, 'reachable': 1357, 'shoes': 674, 'wtf': 1613, 'you': 3, 'ion': 2131, 'msgs': 2177, 'mm': 2225, 'bcz': 2835, 'giving': 772, 'list': 651, 'afraid': 1041, 'review': 2151, 'specification': 1323, 'credited': 184, 'shud': 805, 'into': 318, 'totally': 534, 'good': 175, '000100101044501': 1391, 'surface': 1560, 'asus': 1801, 'promoting': 1997, 'recovered': 2117, 'missed': 1359, 'require': 1146, '\\xa0customer': 1544, 'tq': 2742, 'shots': 601, 'norms': 2761, 'insane': 2012, 'guarantee': 731, 'persist': 2794, 'did': 406, 'remaing': 2806, 'infact': 2467, 'sunday': 939, 'within': 132, 'remember': 808, 'ka': 2425, '231': 1205, 'matters': 1688, 'serum': 2769, 'creat': 2032, 'how': 111, 'giku': 2736, 'charger': 500, 'other': 221, 'apply': 963, 'profession': 1120, 'conducted': 1711, 'asking': 631, 'planning': 2050, 'repeat': 843, 'puduct': 2269, 'discomfort': 1455, 'yyy': 2270, 'detail': 2172, 'stitched': 1836, 'ediat': 2842, 'correspondence': 2660, 'away': 638, 'utr': 2669, 'wanted': 363, 'fkrt': 1552, 'wise': 1100, 'possibility': 1557, 'torn': 1951, 'followed': 1925, 'mis': 1653, 'attempt': 1781, 'repalce': 2162, 'suggest': 983, '262': 2771, 'consider': 1945, 'big': 852, 'voucher': 1025, 'chatting': 636, '9701268817': 2130, '6': 684, 'here': 333, 'thnq': 340, 'original': 814, 'fulfill': 1976, 'meanwhile': 1408, 'manushri': 1388, 'tc': 1430, 'detsils': 2287, 'late': 617, 'registered': 571, 'incomplete': 1606, '5sept': 2224, 'blocked': 2564, 'nonsense': 483, 'vishwanath': 2650, 'poor': 914, 'storage': 1728, 'progarammes': 1011, 'ive': 1338, 'myself': 1189, 'choosen': 2833, 'pls': 361, 'difficult': 971, 'cell': 2492, 'complained': 2730, 'earphone': 2230, 'games': 2524, 'eligible': 1305, \"me'\": 2438, 'attracted': 1806, 'email': 212, 'decided': 1992, 'cheque': 965, 'write': 584, 'send': 136, 'certain': 976, \"product's\": 1220, '8th': 2599, '\\xa0this': 1722, 'source': 2289, 'select': 1639, 'corp0000001': 1392, 'mercantile': 2402, 'approval': 1066, 'colour': 1657, 'reason': 255, 'preferences': 1843, 'hope': 304, 'facts': 1224, 'birthday': 2819, 'limited': 829, 'watch': 1376, 'fill': 1466, 'g': 848, 'invalid': 1900, 'brank': 2636, 'havea': 1897, 'lack': 1439, 'knowing': 1887, '41': 2035, 'fine': 563, 'availability': 1362, 'courier': 110, 'strong': 1425, 'gyuz': 1822, 'concrete': 1592, 'white': 2755, 'thr': 1808, '14th': 1584, 'launching': 2389, 'parents': 1765, 'mfg': 793, 'ltd': 2403, 'murder': 1195, 'arranging': 781, 'fmpp0059100339': 2069, 'reached': 1078, 'trust': 877, 'have': 15, 'hanging': 826, 'declaration': 915, 'him': 359, '64186262242ifsc': 1622, 'dispatch': 1013, \"bank's\": 2895, 'priority': 610, 'gve': 1303, 'fixed': 1260, 'acknowledged': 2382, 'dumb': 1034, 'incorrect': 1214, 'haunt': 2873, 'raipur': 2100, 'image': 813, 'dis': 2449, 'satisfied': 728, 'disheartened': 1075, 'e': 533, 'disappointment': 1197, 'travel': 1496, 'recieced': 1892, 'recived': 2063, 'above': 523, 'long': 293, 'unresolved': 1792, 'tried': 455, 'earlier': 415, 'confidence': 1279, 'mny': 1873, 'heyyyyy': 1522, 'bought': 705, \"technician's\": 1748, 'ok': 91, 'bacl': 2788, 'damaged': 710, 'commit': 1250, 'track': 372, 'loss': 1469, 'box\\xa0with': 1701, 'sunglass': 1940, 'valuable': 1185, 'returning': 923, 'dtdc': 614, 'lunch': 2398, 'exchange': 210, 'malakpet': 1080, 'withdrawal': 2868, 'recieve': 681, 'caused': 119, 'rude': 577, 'september': 644, 'special': 896, 'com': 722, 'we\\x92ll': 2594, 'sling': 2227, 'residence': 2161, 'worry': 123, 'ignore': 608, '\\xa0a': 1678, 'trace': 746, 'brand': 169, 'fare': 1718, 'toward': 1009, 'inbox': 969, 'tak': 2022, 'response': 377, 'na': 888, \"assured'\": 1594, 'knew': 1438, 'discounts': 2781, 're': 1138, 'master': 1643, '795': 2062, 'added': 791, 'town': 1330, 'messages': 1407, 'mismatched': 2471, 'refernce': 2380, '3126': 938, '1st': 1152, 'citi': 2655, 'od506793867758856001': 2789, 'spoke': 392, 'information': 272, 'ave': 2875, 'mmmm': 2858, 'init': 447, 'mailbid': 2385, 'from': 53, 'talking': 621, 'expected': 1968, 'backpack': 1278, 'alright': 1106, 'sales': 2232, 'fair': 1551, 'government': 2597, 'reattempting': 1101, 'total': 2560, 'waalet': 2727, 'confirmation': 150, '23rd': 2285, '55158450622': 2189, 'the\\xa0refund': 2811, \"haven't\": 341, 'came': 319, '8days': 2854, 'verry': 2787, 'cancel': 213, 'v': 1890, 'shirt': 2544, 'facing': 290, 'confirmations': 2393, 'explain': 677, '16': 935, '554': 1150, 'complex': 2193, 'open': 502, 'details': 74, 'elaborate': 794, 'country': 1937, '2nd': 891, 'off': 464, 'in1609161300257242676': 2217, 'frustration': 859, 'fmpr0021392257': 2607, 'acknowledge': 2344, 'whn': 2256, 'flame': 1370, 'packaging': 1167, 'pla': 2358, 'had': 337, 'beforecallback': 1462, 'shaping': 2840, 'studd': 2614, 'picks': 1453, '919702131936': 1337, 'accnt': 907, 'chatted': 2611, 'curse': 568, '\\xa0if': 2459, 'pushing': 1590, 'mouthful': 862, 'flip': 2704, 'adter': 1589, 'fahqnnnnn': 2608, 'un': 1400, 'plz': 209, 'undertaking': 1038, 'sorry': 31, 'visit': 148, 'founders': 1390, 'wat': 506, \"'\": 1751, 'end': 457, 'tomorrow': 285, 'cod': 1299, 'window': 2546, 'wide': 1014, 'successfully': 1177, \"weren't\": 2171, '48': 1450, 'helpful': 492, 'cooperation': 1640, 'concerning': 1988, 'hai': 1343, 'collections': 2733, 'speech': 2836, 'aviator': 1451, 'cbi': 902, 'tym': 397, \"id'\": 2141, 'operate': 1027, 'fir': 1223, 'prabha': 1877, 'against': 689, 'reassurance': 2168, 'wishes': 2013, 'lucknow': 2079, 'iwill': 1814, 'uncomfortable': 1719, 'data': 1090, 'while': 165, 'go': 267, 'uh': 1404, 'large': 2253, 'nt': 1669, 'web': 1549, 'employee': 1122, 'king': 2735, 'plesse': 2776, 'fas': 2861, 'perform': 1483, \"it'll\": 634, \"day's\": 2060, 'stock': 249, 'current': 2654, 'near': 920, 'work': 416, 'file': 1354, 'gotten': 2206, 'statement': 624, 'better': 306, 'road': 2098, 'max': 1809, 'exception': 1923, 'type': 125, 'anybody': 972, 'early': 1134, 'msg': 448, 'color': 2551, 'takung': 2332, 'clear': 759, 'hiiiii': 1831, \"you're\": 524, 'flipkar': 1060, 'no': 35, 'forget': 580, 'ebna9nnnnn': 2018, 'to\\xa0proceed\\xa0for': 2810, '91': 1531, 'paying': 1600, 'waste': 491, 'mails': 951, 'vouhcer': 2352, 'chats': 1546, '30': 1706, 'as': 41, 'small': 658, 'commitment': 2610, 'bi': 2088, 'numb': 1761, 'refused': 959, '86598376': 2726, 'deleiverd': 2361, 'location': 892, 'hang': 1506, 'puma': 479, 'communication': 1436, 'in1608281856146799909': 2509, 'dented': 1277, 'worng': 1182, 'youi': 1649, 'suggested': 1967, 'idiotic': 2621, 'unfortunately': 630, 'text': 351, 'attend': 511, 'kuppam': 672, 'up': 54, 'useless': 567, 'mobiles': 367, 'arrived': 1516, 'tardeo': 1352, 'any1': 1507, 'anf': 2522, '00000057016054729bank': 1773, 'package': 326, 'of': 25, 'branded': 2715, 'crossed': 1238, 'todya': 1405, 'vigilance': 1072, 'making': 1916, 'error': 714, 'friday': 1218, 'h': 2024, 'doctor': 1417, '0000211': 1129, 'credited185': 2538, 'anu': 1872, 'course': 2334, 'combined': 1340, 'meaning': 2240, '12pm': 2550, 'sareghrnkvyuytj8': 2370, 'nthng': 2199, 'wts': 1291, '1week': 2291, 'gum': 543, '5880': 2221, 'house': 1275, 'urgently': 1283, 'particular': 1263, 'was': 49, 'lost': 414, 'referral': 2575, 'mandar': 2345, 'quickly': 2820, 'rating': 2031, 'charges': 493, 'their': 1695, 'begins': 1962, 'selfie': 2688, 'getting': 413, 'tl': 1163, 'yu': 174, 'able': 155, 'national': 1093, 'largely': 2782, 'thought': 1615, 'now': 95, 'nafessa': 2394, 'raj': 581, 'form': 1325, 'returns': 1398, 'fruitful': 1442, 'doing': 553, 'kept': 531, 'o': 1865, 'hub': 1239, 'qty': 1256, 'suppose': 1479, 'opened': 480, 'last': 429, 'constantly': 1692, 'replacement': 73, 'seems': 1468, 'aug': 995, 'shuld': 1714, 'partners': 558, 'blue': 2753, 'across': 2113, 'building': 1349, 'proharmmes': 1406, '26': 934, 'info': 550, '549': 2481, 'tshedqeascpfzeuy': 2851, 'mom': 2223, 'situation': 313, 'amount\\xa0for': 2896, 'guy': 922, 'amd': 2390, 'login': 2893, 'painting': 1846, 'atleast': 1245, 'can': 22, 'exit': 1518, 'putted': 2026, 'serve': 1629, 'mean': 264, 'teust': 1668, 'convey': 1063, 'infrom': 2491, 'put': 682, 'operative': 2169, 'fila': 481, 'main': 2097, 'agent': 590, '17': 1586, 'breathing': 1248, 'fresh': 346, 'reflecting': 1860, 'regard': 109, 'flowers': 1841, 'retain': 1938, '24': 663, 'currently': 912, 'china': 528, 'reach': 256, 'something': 833, 'definitely': 418, 'wildcraft': 2180, 'counted': 2339, 'refuses': 1595, 'processed': 295, 'origin': 2832, 'august': 652, 'therefore': 1031, 'rs555': 2663, 'tel': 1444, 'check': 52, 'apologise': 718, 'uploading': 1859, 'escalating': 2657, 'faster': 2123, 'troubleshooting': 2320, 'bodhan': 1863, 'looks': 532, 'sorted': 2267, 'factory': 855, 'rebooted': 1465, 'more': 133, 'bye': 874, 'sbmy0041029bank': 1623, 'gm': 1870, 'pm': 1585, 'specifics': 1660, 'charge': 719, 'simple': 1076, '24hours': 2435, 'point': 495, 'program': 2576, 'unclear': 1056, 'fakekart': 1276, 'selecting': 1866, '300': 1265, 'cancellation': 431, 'catch': 2872, 'set': 426, 'careless': 1511, 'is\\xa0canceled\\xa0by\\xa0yourself': 2039, 'way': 453, 'spoken': 1155, 'waif': 2518, 'starting': 1664, 'inside': 981, 'similar': 1986, 'who': 271, 'india': 828, '\\xa0': 587, 'issue': 33, 'electrical': 1371, 'right': 236, 'english': 685, 'oki': 192, 'said': 276, 'found': 898, 'outside': 1832, 'mail': 159, 'plus': 1575, 'alternate': 579, 'galaxy': 1920, 'on\\xa0refund': 2408, 'door': 996, 'alternatively': 1137, 'channel': 2556, \"dad's\": 1288, 'gaurantee': 1631, 'your\\xa0refund': 1683, 'beenprocessed': 2529, 'not': 18, 'notice': 694, 'different': 1059, 'andhrapradesh': 1210, 'debited': 1184, 'preponed': 1601, 'leaving': 876, 'are': 37, 'share': 233, '3rd': 998, 'refund\\x94': 2452, 'night': 1302, 'operation': 328, \"partner's\": 2261, 'kannada': 1762, 'contacting': 1504, 'claim': 1320, 'only': 152, 'per': 185, 'paper': 2208, '10th': 1686, 'cancelled': 177, 'statment': 2148, 'reverse': 671, 'assured': 270, 'da': 1020, 'notifications': 2887, 'quires': 2624, 'present': 2531, 'close': 2765, 'this': 14, 'calling': 552, 'yesterday': 327, 'rupees': 2558, 'does': 821, 'tricks': 1767, 'kochi': 1673, 'possible': 188, 'bad': 1339, 'percent': 2830, 'bangalore': 870, 'hasnt': 2257, '1s': 229, 'probs': 2369, 'consumer': 717, 'testing': 1342, 'probl': 2848, 'accommodate': 1233, 'rs': 509, 'tn': 1310, 'escalate': 393, 'about': 112, 'purchaser': 1258, \"accounts'\": 2643, 'pucjup': 1901, 'continue': 1582, 'casual': 1286, 'irritated': 1135, 'fidato': 2815, '06': 1128, 'pes': 744, 'tampered': 931, 'define': 1677, 'creation': 2146, 'compatibility': 2692, 'hence': 391, 'handing': 1729, 'howcome': 1996, 'fit': 489, 'options': 948, 'ravi': 2684, 'whether': 540, 'clarify': 930, 'campaign': 2347, 'http': 834, 'navallur': 2275, 'single': 1148, 'confused': 1699, 'hello9ooooo': 1983, 'order': 34, 'emailed': 2284, 'okay': 259, 'sometimes': 2490, 'know': 84, 'method': 2137, 'ossut': 2841, 'frustrated': 760, 'cost': 827, 'purchases': 1513, 'whole': 1427, 'resent': 2212, 'members': 707, 'despote': 2540, \"you'd\": 2120, 'otp': 1363, 'products': 282, 'received': 164, 'becoz': 544, 'warranty': 2233, 'nobody': 487, 'dr': 1204, 'amounthas': 2427, 'abusive': 2527, '6pm': 1202, 'colony': 1533, 'shd': 1467, 'asoonas': 1903, 'billing': 1000, 'in1608271622468222247': 2163, 'buyer': 1271, 'often': 1394, '59000735812': 2586, 'dedicated': 650, 'globalepartner': 2015, 'holes': 2886, 'quary': 1755, 'advice': 1327, \"customer's\": 2676, 'rest': 592, \"'assurances'\": 1596, '29': 2185, 'chief': 893, 'hlo': 846, 'alzo': 2288, 'erase': 1726, 'ugly': 740, 'm': 470, 'agents': 890, 'manner': 2877, 'unavailable': 1815, 'shopping': 786, 'gng': 1812, 'executives': 2816, 'worst': 1685, 'receive': 129, 'app': 723, 'has': 75, 'helo': 1942, 'low': 1556, 'failed': 1895, 'okaythank': 1648, 'query': 1553, 'kart': 1010, 'bill': 1456, 'both': 444, 'vimal': 1266, 'design': 1301, '22': 1007, 'pic': 2170, 'recieved': 226, 'expecting': 1105, 'cancelling': 1810, 'availability\\x92': 2010, 'team\\xa0is': 2874, 'ppl': 507, 'tham': 2155, 'behalf': 712, \"'product\": 1212, 'oder': 755, 'typewithin': 1778, 'refuse': 1117, 'following': 2266, 'aaa': 691, 'datacard': 2132, 'which1': 2496, 'usually': 1656, 'then': 181, 'yaaa': 1028, 'arranged': 439, 'yess': 2716, 'slip': 1160, 'online': 1024, 'r': 314, 'im': 847, '2days': 2809, 'shoulder': 1422, 'ma': 2802, 'sections': 2713, 'various': 2837, 'general': 1308, 'ill': 1003, 'seeand': 1927, 'himself': 1820, 'although': 1705, 'needed': 1026, 'shooting': 1434, 'been': 76, 'wallet': 183, 'bringing': 1179, 'exact': 527, '42': 1314, 'thatz': 2511, 'specially': 1495, 'row': 1570, 'left': 482, '500036': 1534, 'gdnyt': 1645, 'showing': 379, 'previous': 419, 'customers': 680, 'lodged': 2048, 'onhold': 2613, 'stating': 675, 'clearly': 1133, 'ids': 721, 'originality': 2126, 'autofurnish': 2605, 'say': 811, 'control': 713, 'hav': 2416, 'ii': 2360, 'appreciate': 355, 'techician': 1262, 'surprise': 2157, 'touch': 1125, 'chattisgarh': 1611, 'cashback': 1161, 'miss': 2089, 'sent': 146, 'yeah': 438, 'her': 1190, 'ip': 2784, 'holiday': 2512, 'reversed': 2686, '6999': 2322, 'debit': 607, 'transparently': 2201, 'input': 2703, 'happy': 195, 'hrs': 656, 'token': 2822, 'enough': 570, 'sbtr0000218': 1776, 'show': 900, 'technician': 166, 'serious': 979, 'sakthivel': 991, 'mental': 1156, 'post': 504, 'media': 861, 'notes': 897, 'honestly': 796, 'varify': 2107, 'my': 23, 'u': 43, 'why': 187, 'the\\xa0acknowledgment': 1725, 'super': 1989, 'seen': 1571, 'd': 1049, \"shouldn't\": 905, '200': 2573, 'have\\xa0received\\xa0it\\xa0in': 2367, 'waiting': 141, 'kannan': 1578, 'problem': 201, 'embarrassed': 736, 'additonal': 2501, 'aaya': 2023, 'towards': 1235, 'level': 604, 'supplies': 2469, 'quality': 311, 'rather': 2194, 'block': 1826, 'chating': 2665, 'internet': 668, 'sine': 1381, 'fulwadiwala': 919, 'room': 854, 'thnk': 2635, 'highjacked': 1926, 'complaint': 873, 'kurta': 2274, 'medical': 1208, 'bleed': 2839, 'issuing': 1123, 'its': 219, 'receved': 2616, 'mounted': 1228, 'phones': 1016, 'refunded\\xa0amount': 2407, 'bear': 1712, '122': 2071, 'insisting': 1963, 'neteotks': 1372, 'club': 2336, 'process': 244, 'future': 836, 'od506773963262423000': 2108, 'hands': 1367, 'expedite': 1625, 'gave': 386, 'irder': 2649, 'morning': 254, '422': 2561, 'amountwill': 1486, 'assistant': 1307, 'satisfaction': 2363, 'purely': 2631, 'cant': 485, 'glass': 2640, 'showsorder': 2365, 'please\\xa0do': 1074, 'cl': 211, 'siting': 1961, 'tamil': 2545, 'instead': 496, 'notification': 569, 'xactly': 1296, 'convenience': 2533, 'cross': 1821, 'sharing': 362, 'dishonesty': 1591, 'great': 343, 'serviceable': 2264, 'too': 497, 'get': 32, 'months': 1077, 'undamaged': 2882, 'shows': 1378, 'hjrefggzxbg6usqv': 2853, 'condition': 1293, 'soon': 286, 'want': 96, 'sides': 1952, 'keep': 198, 'prblm': 2368, 'complete': 424, 'diff': 2375, 'jhansi': 2078, 'failing': 1459, 'withe': 2593, '90': 1918, 'wana': 2147, 'jargons': 1082, 'updated': 215, 'remove': 1253, 'le1s': 911, 'eating': 1051, 'podsible': 2362, 'result': 1443, 'extra': 1490, 'recommend': 2030, \"we'd\": 1515, 'own': 1172, 'very': 172, 'seller': 240, 'conclusion': 1424, 'dedign': 1605, 'disappointing': 2445, 'guys': 865, 'mood': 1151, 'scratches': 2884, 'got': 121, 'successful': 1789, 'favour': 529, '6s': 883, 'flaw': 1290, 'time': 77, 'advertise': 1583, 'f1': 2823, 'family': 622, 'desktop': 2121, 'each': 2712, 'shootings': 1448, 'plzz': 1618, 'be': 19, 'verify': 2652, 'cing': 1481, 'faith': 1280, 'immedately': 1935, 'okayi': 2158, 'promises': 1538, 'worried': 950, 'hand': 559, 'companys': 2042, 'carton': 1758, 'lodge': 2539, 'eliza': 2277, 'after': 266, 'concern': 69, 'bandh': 2341, 'read': 1200, 'unless': 1147, 'initiating': 609, 'via': 1707, 'unit': 2483, 'solved': 949, 'rate': 1502, 'doubtful': 858, 'alphabet': 1360, '6plus': 2176, 'maam': 2681, 'claiming': 2465, 'c': 1273, 'dates': 2304, 'guard': 664, 'next': 247, 'look': 309, 'huge': 2476, 'being': 616, 'inthis': 2282, 'highway': 2570, 'trur': 2316, 'desired': 1489, 'written': 700, '25th': 1721, '11': 2845, 'make': 160, '793003': 2749, \"don't\": 143, 'forfeited': 2602, 'names': 575, 'try': 248, 'accessories': 232, 'replacment': 1364, 'aproach': 2328, 'promise': 114, 'stage': 2293, 'couple': 452, 'internal': 1716, 's': 517, 'kurthi': 1804, 'note': 368, '353085031577993127': 1131, 'mercury': 2181, 'ensure': 749, 'public': 2342, 'legal': 763, 'dec': 1361, 'vishwanathan': 1298, 'self': 1237, 'wrapper': 2498, 'ivrs': 1355, 'days': 130, 'would': 65, 'says': 1752, 'fetch': 1833, \"hasn't\": 1050, 'remaining': 1458, 'unprofessional': 2058, 'th': 484, 'surely': 263, 'rathish': 885, 'extremely': 1124, 'dhanlakshmi': 1558, 'urgent': 1687, 'picking': 1383, 'forward': 494, 'they\\x92ve': 2298, 'download': 505, '5': 849, 'improve': 2396, 'lie': 1545, 'rufunded': 2488, 'syeda': 802, 'interested': 2515, 'y': 518, 'start': 2301, 'where': 294, 'website': 541, '40': 1732, \"'od'\": 2139, 'whoever': 1607, 'redeem': 2386, 'wishmaster': 261, 'fmpp0058908097': 2017, 'recipe': 1264, 'turning': 2272, 'rid': 815, 'phone': 135, 'alternative': 1419, 'reply': 619, 'i\\x92ll': 1731, 'still': 147, 'vipulkumar': 1987, 'opening': 1132, 'feature': 2011, 'view': 1385, 'courrier': 2429, 'lookingv': 1834, 'opportunities': 2160, 'we\\x92re': 1889, 'place': 242, 'aug29': 2871, 'fail': 725, 'greatly': 1541, 'opportunity': 2283, 'repeating': 1240, 'tmorow': 954, 'displeasure': 745, 'idono': 2391, 'hair': 2768, 'since': 252, 'buddy': 1753, 'until': 764, 'neglect': 2541, 'quieres': 1650, 'included': 2231, 'satisfy': 2774, 'helping': 1094, '33217443896ifsc': 2695, 'expense': 867, 'packet': 1907, 'lenth': 2325, 'byeeee': 2027, 'eyesight': 2330, 'cooperate': 2745, 'scheduled': 441, 'care': 250, 'f': 642, 'svazduuuun': 2239, 'will': 5, 'mouth': 2434, \"god's\": 751, 'replaced': 662, 'deliver': 243, 'empathy': 548, 'encash': 2135, 'sweatshirt': 2441, 'defect': 747, 'apologies': 761, 'completion': 142, 'initiate': 307, 'many': 380, 'gogals': 2728, '5876rs': 1828, 'bur': 1850, 'normally': 1304, 'request': 30, 'three': 1153, 'gb': 2750, 'screenshot': 508, 'initial': 1604, 'answer': 790, 'advance': 779, 'tnk': 1646, 'neighbor': 724, '9898': 2495, 'falsifying': 999, 'checked': 734, 'notifying': 699, 'chargesheet': 1225, 'telling': 472, 'i\\x92m': 1199, '295100050302219': 2404, 'day': 122, 'sim': 982, 'okiii': 901, 'beneficiary': 1620, 'refundamount': 2595, 'beginning': 2629, 'welcm': 1738, 'fillied': 2114, 'becoming': 1563, 'upfront': 2349, 'trying': 498, 'requested': 300, 'unsuccessful': 1902, 'rahul': 709, 'reaches': 633, 'bunch': 1659, 'disappointed': 985, 'massage': 1823, 'gone': 632, 'doorstep': 1696, '603103': 2572, 'exhausted': 1445, 'quit': 1614, 'competitors': 2306, 'actully': 1519, 'line': 1356, 'ru': 1499, 'dubash': 1348, 'items': 611, '03': 1703, 'anythng': 1612, 'hd': 1501, 'devices': 2691, 'exactly': 2118, 'jehan': 918, 'unused': 2881, '3days': 1001, 'engine': 1580, 'fedup': 2065, 'oo': 1682, 'laptop': 2081, 'chosen': 1252, 'alone': 1402, 'supplier': 2260, 'digital': 1537, 'ha': 499, 'invoice': 251, 'perfect': 2084, \"'notify\": 2437, 'praveen': 591, 'ask': 612, 'piece': 350, 'submit': 2641, 'ware': 1931, 'destination': 128, 'pinku': 2196, 'in': 20, 'on': 27, 'smart': 2826, 'bag': 566, 'worth': 1883, 'collect': 469, 'friend\\x92s': 2262, 'lol': 770, 'concerned': 197, 'business': 696, 'see': 59, '\\xa0issue': 2719, 'evening': 344, '1100': 2671, 'thereafter': 2618, 'god': 1550, 'upset': 1089, 'queries': 2478, '2683': 1647, 'yo': 2415, 'wear': 1847, 'combine': 1904, 'arrange': 246, '12': 1409, 'cover': 366, '84': 1530, 'srt': 1532, 'stringent': 2760, '\\xa0it': 1655, 'number': 64, 'lead': 1165, 'choice': 1328, '14': 960, 'scanned': 1168, 'coordinate': 780, 'mi': 421, 'accessory': 2901, 'problems': 1460, 'bck': 2205, 'sufficient': 2814, 'sell': 853, '9573209223': 2555, '24th': 2442, 'return\\xa0and': 1785, 'according': 1227, 'landmark': 1512, 'buyers': 2210, 'dear': 1559, '32': 1192, 'cache': 2792, 'needful': 782, 'dissatisfaction': 2055, 'accountable': 551, 'resive': 1754, 'pleasure': 407, 'october': 2565, 'deposited': 2844, 'power': 835, \"list\\xa0you're\": 2751, 'phonenumber': 1461, 'scratch': 2843, 'helmet': 2174, 'under': 946, 'sold': 2763, 'ah': 2460, 'avi': 2021, 'chang': 1875, 'native': 1813, 'face': 1849, '09880980554': 878, 'kavi': 2423, 'well': 401, 'hardly': 2041, 'disappoint': 904, 'fulfilled': 1750, 'consignment': 958, 'whts': 1564, '19th': 2286, 'indicated': 2516, 'i\\xa0apologize': 2448, 'pin': 932, '30th': 1470, '1010704381949745700': 2673, 'sbin0001810': 2696, 'changing': 1346, 'presently': 1619, 'n': 408, 'statustoday': 2523, 'enquire': 2202, 'they': 63, 'rha': 2563, 'raise': 1006, 'compromise': 2764, 'nothing': 371, 'greetings': 2247, 'refund': 12, 'imagine': 501, 'high': 916, 'logging': 2798, 'most': 2251, 'adotya': 1040, 'kochiifsc': 1775, '1010676021289924100': 1984, 'longgg': 1943, 'air': 2497, 'hurrry': 1799, '918067': 1663, 'updating': 1098, 'dispose': 1886, 'ypu': 2795, 'malayalam': 777, '\\xa0within': 1526, 'mini': 1894, 'deliverable': 2748, '492001': 2101, 'easy': 822, 'pickupadress': 1312, 'ordinate': 1373, 'support': 657, 'dint': 432, 'site': 1377, 'branch': 798, 'barred': 1917, '2000': 1974, 'center': 1254, 'activated': 2510, '20th': 2804, 'name\\xa0\\xa0will': 1213, 'bengaluru': 894, 'includes': 2553, 'goes': 688, 'whom': 1478, 'reflect': 473, 'immediate': 2707, 'regional': 2803, '65': 1336, '31': 1529, 'sealed': 204, 'pasting': 943, 'rejecte': 2504, 'ship': 889, 'hyderabad': 2418, 'apki': 2863, 'spot': 1948, 'long\\xa0process': 1786, 'lakshmi': 1311, 'entered': 2116, 'tech': 230, 'given': 324, 'never': 573, 'proceed': 365, 'dent': 411, 'poda': 2786, 'simultaneously': 2014, 'iam': 360, 'parcel': 1733, 'hello': 373, \"can't\": 348, 'tensed': 738, 'prepone': 1243, 'itanagar': 2637, 'once': 88, 'equal': 2159, 'reson': 2271, 'invite': 2574, 'anything': 105, 'ky': 2422, 'corner': 2647, 'his': 1140, 'af': 1097, 'payment': 331, 'syedaa': 1159, 'plastic': 1922, 'farm': 2093, 'ganesha': 2439, 'guide': 2458, 'siva': 2400, 'servicr': 2864, 'lines': 561, 'escalated': 182, \"'my\": 1912, 'maybe': 2485, 'mr': 2777, 'pit': 1284, 'prabhavathi': 2738, 'tamilnad': 2401, 'supposed': 986, 'soo': 1941, 'so': 48, 'specific': 2377, 'tranvcore': 1774, 'wasnt': 2466, 'atm': 2144, 'charging': 613, 'reorder': 1966, 'understand': 71, 'guyz': 1055, 'opt': 1366, 'referring': 520, \"we'll\": 428, 'because': 145, 'bigger': 1662, 'munshi': 1791, 'ordered': 298, 'importance': 1566, 'resend': 1769, 'call': 85, 'he': 158, 'change': 170, '\\xa0your': 2519, 'evng': 1837, 'were': 389, '559': 2124, 'purchased': 542, 'amountwas': 2897, 'crap': 1166, 'saying': 666, 'l': 1759, 'lyf': 1980, 'man': 378, 'sunny': 2778, 'contacted': 968, 'sorely': 1959, 'rail': 1827, 'lavie': 1421, 'by\\xa0resolution': 1067, 'gogoi': 2584, 'causing': 2634, '3d': 2824, 'resived': 2346, 'absolutely': 708, '26the': 2589, 'automated': 1015, 'out': 127, 'screen': 297, 'schedule': 975, 'updates': 704, 'afternoon': 417, 'service': 299, 'heard': 1053, 'two': 103, 'defective': 374, 'entire': 2453, \"i'm\": 78, 'promsie': 1871, 'nd': 1644, 'balance': 549, 'mng': 2076, 'for': 7, 'replying': 1324, 'proof': 1435, 'computer': 1627, 'step': 820, 'another': 476, 'ua': 1737, 'switch': 926, 'holder\\x92s': 1670, 'format': 1800, 'saved': 2499, 'tmbl0000295': 2405, 'deleting': 2122, 'reschedule': 910, 'refunf': 2590, 'in1608120654251564981': 2292, 'first': 405, 'thq': 2628, '3880': 2222, 'flipkat': 2359, \"we're\": 899, 'duffle': 2752, 'if': 56, 'bymistake': 2311, 'dealeye': 2801, 'highly': 1825, 'come': 223, 'id': 167, 'fun': 1954, 'cheat': 953, 'sep': 1509, '55': 1956, 'colleague': 726, 'showed': 2470, 'banks': 1226, 'anyhow': 1064, 'flipkard': 2216, 'mysore': 1624, 'lu': 2708, 'am': 44, 'filthy': 1411, '3': 265, 'reflected': 973, 'sign': 1788, 'avoid': 2526, 'stupid': 2847, 'exchnage': 2615, 'broken': 711, 'hassle': 2244, 'rakhis': 2705, 'all': 140, \"man's\": 937, '6days': 1211, 'during': 1217, 'wid': 2376, 'gets': 606, 'that\\xa0the': 1634, 'slow': 1864, \"we've\": 555, 'people': 376, 'polaris': 2568, 'doubts': 1039, 'installation': 1401, 'damage': 1178, 'dated': 1891, 'follows': 1794, 'dropping': 2007, 'nahi': 2562, 'couriercharges': 2743, 'requirement': 2701, 'switches': 850, 'devpuri': 2099, 'like': 89, 'earphones': 2229, 'laser': 1046, 'between': 1201, 'takes': 748, 'triggered': 1043, 'gives': 1861, 'forever': 2808, 'supply': 2468, 'responsibility': 2043, 'calls': 2455, '34': 2569, 'custopmer': 2087, 'completely': 459, \"it's\": 124, '\\xa0instead': 1787, 'gagan': 382, 'member': 882, 'rithesh': 1282, 'cart': 1770, 'over': 513, 'savings': 1654, 'upload': 1858, 'nail': 2644, 'speak': 1054, 'experiencing': 1382, 'really': 200, 'llrefund': 2865, 'hell': 1581, 'reserved': 2532, 'identity': 2740, 'wo': 2068, 'gi': 2379, 'range': 984, 'eco': 2179, 'entering': 1680, 'unsencererity': 2173, 'pair': 1913, 'destiantion': 1824, 'questions': 317, 'hi': 99, 'resolves': 2072, 'canceld': 1909, 'babu': 1432, 'judicial': 2192, '29th': 2036, 'eventhough': 2066, 'nearest': 1491, 'unhappy': 1257, 'sanction': 1164, 'reinstate': 2103, 'quarrel': 1141, 'quantity': 1017, 'things': 1539, 'enlarger': 2747, 'chrges': 2772, 'heat': 1579, 'extended': 1817, 'comtact': 1181, 'glowrina': 2583, 'fear': 2051, 'attitude': 2059, 'acknowledgment': 1042, 'ballance': 2521, 'ahead': 281, 'attempts': 1973, 'wsr': 1503, 'wer': 2255, 'having': 512, 'kinda': 1939, 'allowing': 1520, 'anyone': 1099, \"'return'\": 2106, '560067': 1319, 'old': 275, 'placing': 2133, 'snapdeal': 2073, '72': 2582, \"won't\": 477, 'thanx': 2077, 'transit': 2034, 'leaves': 1395, 'floor': 997, \"'priority'\": 1960, 'yday': 2554, 'everytime': 818, '4444': 2237, 'sssssssssssssss': 1525, 'full': 956, 'facilitate': 2245} 2902\n"
     ]
    }
   ],
   "source": [
    "vocab=t.word_index\n",
    "print(vocab,len(vocab))"
   ]
  },
  {
   "cell_type": "code",
   "execution_count": 95,
   "metadata": {
    "collapsed": false
   },
   "outputs": [
    {
     "data": {
      "text/plain": [
       "True"
      ]
     },
     "execution_count": 95,
     "metadata": {},
     "output_type": "execute_result"
    }
   ],
   "source": [
    "'<eos>' in vocab.keys()"
   ]
  },
  {
   "cell_type": "code",
   "execution_count": 22,
   "metadata": {
    "collapsed": false
   },
   "outputs": [],
   "source": [
    "#Dict to json\n",
    "import json\n",
    "with open('vocabulary_fk.json', 'w') as fp:\n",
    "    json.dump(vocab, fp)"
   ]
  },
  {
   "cell_type": "code",
   "execution_count": null,
   "metadata": {
    "collapsed": false
   },
   "outputs": [],
   "source": [
    "import csv\n",
    "with open(\"./training_drive.csv\", 'r',encoding='utf-8') as f:\n",
    "    reader = csv.reader(f)\n",
    "    for row in reader:\n",
    "        print(row[0])\n",
    "        "
   ]
  },
  {
   "cell_type": "code",
   "execution_count": null,
   "metadata": {
    "collapsed": false
   },
   "outputs": [],
   "source": [
    "lens=[]\n",
    "for chat in chats_complete:\n",
    "    lens.append(len(chat.split(\" \")))"
   ]
  },
  {
   "cell_type": "code",
   "execution_count": null,
   "metadata": {
    "collapsed": false
   },
   "outputs": [],
   "source": [
    "import matplotlib.pyplot as plt\n",
    "%matplotlib inline"
   ]
  },
  {
   "cell_type": "code",
   "execution_count": null,
   "metadata": {
    "collapsed": false
   },
   "outputs": [],
   "source": [
    "\n",
    "_buckets = [(5,5),(10,10),(15, 15), (20, 20), (25, 25),(40,40)]\n",
    "data_buckets=[[] for i in range(len(_buckets))]\n",
    "for source_ids,target_ids in zip(inputs,outputs):\n",
    "    flag=0\n",
    "    for bucket_id, (source_size, target_size) in enumerate(_buckets):\n",
    "        if len(source_ids.split(\" \")) < source_size and len(target_ids.split(\" \")) < target_size:\n",
    "            data_buckets[bucket_id].append([source_ids, target_ids])\n",
    "            flag=1\n",
    "            break\n",
    "    if(flag==0):\n",
    "        flag=0\n",
    "        data_buckets[5].append([source_ids,target_ids])"
   ]
  },
  {
   "cell_type": "code",
   "execution_count": null,
   "metadata": {
    "collapsed": false
   },
   "outputs": [],
   "source": [
    "len(outputs)"
   ]
  },
  {
   "cell_type": "code",
   "execution_count": null,
   "metadata": {
    "collapsed": false
   },
   "outputs": [],
   "source": [
    "from keras.utils.np_utils import to_categorical\n",
    "import random\n",
    "batch_size=32\n",
    "bucket_id=random.randint(0,len(_buckets))\n",
    "instance_id = range(len(data_buckets[bucket_id]))\n",
    "batch_ids = random.sample(instance_id, batch_size)\n",
    "targets=np.array(np.array(data_buckets[bucket_id])[:,1])[batch_ids]\n",
    "targets = np.array(list(map(lambda x: to_categorical(x,num_classes=1522),targets)))\n",
    "print(np.array(data_buckets[bucket_id][:,0])[batch_ids],targets.shape)"
   ]
  },
  {
   "cell_type": "code",
   "execution_count": null,
   "metadata": {
    "collapsed": true
   },
   "outputs": [],
   "source": [
    "x=np.array(data_buckets)"
   ]
  },
  {
   "cell_type": "code",
   "execution_count": null,
   "metadata": {
    "collapsed": false
   },
   "outputs": [],
   "source": [
    "import numpy as np\n",
    "a=np.array([[1,2,3],[11,12,13],[21,22,23]])\n",
    "print(a[:,1])\n"
   ]
  },
  {
   "cell_type": "code",
   "execution_count": 246,
   "metadata": {
    "collapsed": false
   },
   "outputs": [],
   "source": [
    "complete_chats=[]\n",
    "for chat in chats:\n",
    "    for ch in chat:\n",
    "        complete_chats.append(ch)"
   ]
  },
  {
   "cell_type": "code",
   "execution_count": 277,
   "metadata": {
    "collapsed": false
   },
   "outputs": [],
   "source": [
    "import nltk\n",
    "tokenizer=nltk.data.load(\"tokenizers/punkt/english.pickle\")"
   ]
  },
  {
   "cell_type": "code",
   "execution_count": null,
   "metadata": {
    "collapsed": false
   },
   "outputs": [],
   "source": [
    "from nltk.tokenize import word_tokenize\n",
    "word_tokenize(chats[0][1])"
   ]
  },
  {
   "cell_type": "code",
   "execution_count": 284,
   "metadata": {
    "collapsed": false
   },
   "outputs": [
    {
     "name": "stdout",
     "output_type": "stream",
     "text": [
      "showing info https://raw.githubusercontent.com/nltk/nltk_data/gh-pages/index.xml\n"
     ]
    },
    {
     "data": {
      "text/plain": [
       "True"
      ]
     },
     "execution_count": 284,
     "metadata": {},
     "output_type": "execute_result"
    }
   ],
   "source": [
    "nltk.download()"
   ]
  },
  {
   "cell_type": "code",
   "execution_count": 301,
   "metadata": {
    "collapsed": false
   },
   "outputs": [
    {
     "data": {
      "text/plain": [
       "array([[ 1.,  1.,  1.,  1.,  1.,  0.,  0.,  0.],\n",
       "       [ 1.,  1.,  1.,  1.,  1.,  0.,  0.,  0.],\n",
       "       [ 1.,  1.,  1.,  1.,  1.,  0.,  0.,  0.],\n",
       "       [ 1.,  1.,  1.,  1.,  1.,  0.,  0.,  0.],\n",
       "       [ 1.,  1.,  1.,  1.,  1.,  0.,  0.,  0.]])"
      ]
     },
     "execution_count": 301,
     "metadata": {},
     "output_type": "execute_result"
    }
   ],
   "source": [
    "a=np.ones((5,5))\n",
    "b=np.zeros((5,3))\n",
    "np.concatenate([a,b],axis=1)"
   ]
  },
  {
   "cell_type": "code",
   "execution_count": 302,
   "metadata": {
    "collapsed": true
   },
   "outputs": [],
   "source": [
    "x=np.ones((3,4,5))"
   ]
  },
  {
   "cell_type": "code",
   "execution_count": 312,
   "metadata": {
    "collapsed": false
   },
   "outputs": [],
   "source": [
    "import keras.backend as K"
   ]
  },
  {
   "cell_type": "code",
   "execution_count": 315,
   "metadata": {
    "collapsed": false
   },
   "outputs": [
    {
     "data": {
      "text/plain": [
       "array([2, 4])"
      ]
     },
     "execution_count": 315,
     "metadata": {},
     "output_type": "execute_result"
    }
   ],
   "source": [
    "np.array([1,2])*np.array([2,2])"
   ]
  },
  {
   "cell_type": "code",
   "execution_count": 316,
   "metadata": {
    "collapsed": false
   },
   "outputs": [
    {
     "data": {
      "text/plain": [
       "(3, 5)"
      ]
     },
     "execution_count": 316,
     "metadata": {},
     "output_type": "execute_result"
    }
   ],
   "source": [
    "x[:,0].shape"
   ]
  },
  {
   "cell_type": "code",
   "execution_count": 6,
   "metadata": {
    "collapsed": true
   },
   "outputs": [],
   "source": [
    "import pandas as pd\n",
    "df1=pd.read_csv(\"validation_complete_tup.csv\")\n",
    "df=pd.read_csv(\"training_complete_tup.csv\")\n",
    "df[\"inputs\"]=df[\"inputs\"]+\" <eos>\"\n",
    "df[\"outputs\"]=df[\"outputs\"]+\" <eos>\"\n",
    "df1[\"inputs\"]=df1[\"inputs\"]+\" <eos>\"\n",
    "df1[\"outputs\"]=df1[\"outputs\"]+\" <eos>\"\n",
    "df.to_csv(\"training_complete1.csv\")\n",
    "df1.to_csv(\"validation_complete1.csv\")"
   ]
  },
  {
   "cell_type": "code",
   "execution_count": 12,
   "metadata": {
    "collapsed": false
   },
   "outputs": [],
   "source": [
    "import pandas as pd\n",
    "df1=pd.read_csv(\"testing_complete_tup.csv\")"
   ]
  },
  {
   "cell_type": "code",
   "execution_count": 14,
   "metadata": {
    "collapsed": false
   },
   "outputs": [
    {
     "data": {
      "text/html": [
       "<div>\n",
       "<table border=\"1\" class=\"dataframe\">\n",
       "  <thead>\n",
       "    <tr style=\"text-align: right;\">\n",
       "      <th></th>\n",
       "      <th>inputs</th>\n",
       "      <th>outputs</th>\n",
       "    </tr>\n",
       "  </thead>\n",
       "  <tbody>\n",
       "    <tr>\n",
       "      <th>0</th>\n",
       "      <td>remind me to take my pills</td>\n",
       "      <td>what time do you need to take your pills?</td>\n",
       "    </tr>\n",
       "    <tr>\n",
       "      <th>1</th>\n",
       "      <td>remind me to take my pills what time do you ne...</td>\n",
       "      <td>ok setting your medicine appointment for dinne...</td>\n",
       "    </tr>\n",
       "    <tr>\n",
       "      <th>2</th>\n",
       "      <td>what gas stations are here?</td>\n",
       "      <td>there is a gas_station#poi.</td>\n",
       "    </tr>\n",
       "    <tr>\n",
       "      <th>3</th>\n",
       "      <td>what gas stations are here? there is a gas_sta...</td>\n",
       "      <td>taking you to gas_station#poi.</td>\n",
       "    </tr>\n",
       "    <tr>\n",
       "      <th>4</th>\n",
       "      <td>what gas stations are here? there is a gas_sta...</td>\n",
       "      <td>Chevron#address is the address for gas_station...</td>\n",
       "    </tr>\n",
       "  </tbody>\n",
       "</table>\n",
       "</div>"
      ],
      "text/plain": [
       "                                              inputs  \\\n",
       "0                         remind me to take my pills   \n",
       "1  remind me to take my pills what time do you ne...   \n",
       "2                        what gas stations are here?   \n",
       "3  what gas stations are here? there is a gas_sta...   \n",
       "4  what gas stations are here? there is a gas_sta...   \n",
       "\n",
       "                                             outputs  \n",
       "0          what time do you need to take your pills?  \n",
       "1  ok setting your medicine appointment for dinne...  \n",
       "2                        there is a gas_station#poi.  \n",
       "3                     taking you to gas_station#poi.  \n",
       "4  Chevron#address is the address for gas_station...  "
      ]
     },
     "execution_count": 14,
     "metadata": {},
     "output_type": "execute_result"
    }
   ],
   "source": [
    "del df1[\"Unnamed: 0\"]\n",
    "df1.head()"
   ]
  },
  {
   "cell_type": "code",
   "execution_count": 21,
   "metadata": {
    "collapsed": false
   },
   "outputs": [
    {
     "ename": "TypeError",
     "evalue": "expected string or bytes-like object",
     "output_type": "error",
     "traceback": [
      "\u001b[1;31m---------------------------------------------------------------------------\u001b[0m",
      "\u001b[1;31mTypeError\u001b[0m                                 Traceback (most recent call last)",
      "\u001b[1;32m<ipython-input-21-5ac2581a538c>\u001b[0m in \u001b[0;36m<module>\u001b[1;34m()\u001b[0m\n\u001b[0;32m      2\u001b[0m \u001b[1;32mfor\u001b[0m \u001b[0mi\u001b[0m\u001b[1;33m,\u001b[0m\u001b[1;33m(\u001b[0m\u001b[0minp\u001b[0m\u001b[1;33m,\u001b[0m\u001b[0mout\u001b[0m\u001b[1;33m)\u001b[0m \u001b[1;32min\u001b[0m \u001b[0menumerate\u001b[0m\u001b[1;33m(\u001b[0m\u001b[0mzip\u001b[0m\u001b[1;33m(\u001b[0m\u001b[0mdf1\u001b[0m\u001b[1;33m[\u001b[0m\u001b[1;34m\"inputs\"\u001b[0m\u001b[1;33m]\u001b[0m\u001b[1;33m,\u001b[0m\u001b[0mdf1\u001b[0m\u001b[1;33m[\u001b[0m\u001b[1;34m\"outputs\"\u001b[0m\u001b[1;33m]\u001b[0m\u001b[1;33m)\u001b[0m\u001b[1;33m)\u001b[0m\u001b[1;33m:\u001b[0m\u001b[1;33m\u001b[0m\u001b[0m\n\u001b[0;32m      3\u001b[0m     \u001b[0mdf1\u001b[0m\u001b[1;33m[\u001b[0m\u001b[1;34m\"inputs\"\u001b[0m\u001b[1;33m]\u001b[0m\u001b[1;33m[\u001b[0m\u001b[0mi\u001b[0m\u001b[1;33m]\u001b[0m\u001b[1;33m=\u001b[0m\u001b[0mre\u001b[0m\u001b[1;33m.\u001b[0m\u001b[0msub\u001b[0m\u001b[1;33m(\u001b[0m\u001b[1;34mr'home#poi#poi*'\u001b[0m\u001b[1;33m,\u001b[0m\u001b[1;34m\"home#poi\"\u001b[0m\u001b[1;33m,\u001b[0m\u001b[0mdf1\u001b[0m\u001b[1;33m[\u001b[0m\u001b[1;34m\"inputs\"\u001b[0m\u001b[1;33m]\u001b[0m\u001b[1;33m[\u001b[0m\u001b[0mi\u001b[0m\u001b[1;33m]\u001b[0m\u001b[1;33m)\u001b[0m\u001b[1;33m\u001b[0m\u001b[0m\n\u001b[1;32m----> 4\u001b[1;33m     \u001b[0mdf1\u001b[0m\u001b[1;33m[\u001b[0m\u001b[1;34m\"outputs\"\u001b[0m\u001b[1;33m]\u001b[0m\u001b[1;33m[\u001b[0m\u001b[0mi\u001b[0m\u001b[1;33m]\u001b[0m\u001b[1;33m=\u001b[0m\u001b[0mre\u001b[0m\u001b[1;33m.\u001b[0m\u001b[0msub\u001b[0m\u001b[1;33m(\u001b[0m\u001b[1;34mr'home#poi#poi*'\u001b[0m\u001b[1;33m,\u001b[0m\u001b[1;34m\"home#poi\"\u001b[0m\u001b[1;33m,\u001b[0m\u001b[0mout\u001b[0m\u001b[1;33m)\u001b[0m\u001b[1;33m\u001b[0m\u001b[0m\n\u001b[0m",
      "\u001b[1;32mD:\\Anaconda3\\lib\\re.py\u001b[0m in \u001b[0;36msub\u001b[1;34m(pattern, repl, string, count, flags)\u001b[0m\n\u001b[0;32m    180\u001b[0m     \u001b[0ma\u001b[0m \u001b[0mcallable\u001b[0m\u001b[1;33m,\u001b[0m \u001b[0mit\u001b[0m\u001b[0;31m'\u001b[0m\u001b[0ms\u001b[0m \u001b[0mpassed\u001b[0m \u001b[0mthe\u001b[0m \u001b[0mmatch\u001b[0m \u001b[0mobject\u001b[0m \u001b[1;32mand\u001b[0m \u001b[0mmust\u001b[0m \u001b[1;32mreturn\u001b[0m\u001b[1;33m\u001b[0m\u001b[0m\n\u001b[0;32m    181\u001b[0m     a replacement string to be used.\"\"\"\n\u001b[1;32m--> 182\u001b[1;33m     \u001b[1;32mreturn\u001b[0m \u001b[0m_compile\u001b[0m\u001b[1;33m(\u001b[0m\u001b[0mpattern\u001b[0m\u001b[1;33m,\u001b[0m \u001b[0mflags\u001b[0m\u001b[1;33m)\u001b[0m\u001b[1;33m.\u001b[0m\u001b[0msub\u001b[0m\u001b[1;33m(\u001b[0m\u001b[0mrepl\u001b[0m\u001b[1;33m,\u001b[0m \u001b[0mstring\u001b[0m\u001b[1;33m,\u001b[0m \u001b[0mcount\u001b[0m\u001b[1;33m)\u001b[0m\u001b[1;33m\u001b[0m\u001b[0m\n\u001b[0m\u001b[0;32m    183\u001b[0m \u001b[1;33m\u001b[0m\u001b[0m\n\u001b[0;32m    184\u001b[0m \u001b[1;32mdef\u001b[0m \u001b[0msubn\u001b[0m\u001b[1;33m(\u001b[0m\u001b[0mpattern\u001b[0m\u001b[1;33m,\u001b[0m \u001b[0mrepl\u001b[0m\u001b[1;33m,\u001b[0m \u001b[0mstring\u001b[0m\u001b[1;33m,\u001b[0m \u001b[0mcount\u001b[0m\u001b[1;33m=\u001b[0m\u001b[1;36m0\u001b[0m\u001b[1;33m,\u001b[0m \u001b[0mflags\u001b[0m\u001b[1;33m=\u001b[0m\u001b[1;36m0\u001b[0m\u001b[1;33m)\u001b[0m\u001b[1;33m:\u001b[0m\u001b[1;33m\u001b[0m\u001b[0m\n",
      "\u001b[1;31mTypeError\u001b[0m: expected string or bytes-like object"
     ]
    }
   ],
   "source": [
    "import re\n",
    "for i,(inp,out) in enumerate(zip(df1[\"inputs\"],df1[\"outputs\"])):\n",
    "    df1[\"inputs\"][i]=re.sub(r'home#poi#poi*',\"home#poi\",df1[\"inputs\"][i])\n",
    "    df1[\"outputs\"][i]=re.sub(r'home#poi#poi*',\"home#poi\",out)"
   ]
  },
  {
   "cell_type": "code",
   "execution_count": 97,
   "metadata": {
    "collapsed": true
   },
   "outputs": [],
   "source": [
    "import pandas as pd\n",
    "df1=pd.read_csv(\"training_complete_new.csv\")\n",
    "df2=pd.read_csv(\"validation_complete_new.csv\")\n",
    "del df2[\"Unnamed: 0\"]\n",
    "del df1[\"Unnamed: 0\"]"
   ]
  },
  {
   "cell_type": "code",
   "execution_count": 98,
   "metadata": {
    "collapsed": false
   },
   "outputs": [
    {
     "data": {
      "text/html": [
       "<div>\n",
       "<table border=\"1\" class=\"dataframe\">\n",
       "  <thead>\n",
       "    <tr style=\"text-align: right;\">\n",
       "      <th></th>\n",
       "      <th>inputs</th>\n",
       "      <th>outputs</th>\n",
       "    </tr>\n",
       "  </thead>\n",
       "  <tbody>\n",
       "    <tr>\n",
       "      <th>0</th>\n",
       "      <td>where's the nearest parking garage</td>\n",
       "      <td>the nearest parking garage is dish parking at ...</td>\n",
       "    </tr>\n",
       "    <tr>\n",
       "      <th>1</th>\n",
       "      <td>where's the nearest parking garage the nearest...</td>\n",
       "      <td>it looks like there is a road block being repo...</td>\n",
       "    </tr>\n",
       "    <tr>\n",
       "      <th>2</th>\n",
       "      <td>where's the nearest parking garage the nearest...</td>\n",
       "      <td>you're very welcome!</td>\n",
       "    </tr>\n",
       "    <tr>\n",
       "      <th>3</th>\n",
       "      <td>where is the nearest gas station?</td>\n",
       "      <td>there is a 76 76_distance away.</td>\n",
       "    </tr>\n",
       "    <tr>\n",
       "      <th>4</th>\n",
       "      <td>where is the nearest gas station? there is a 7...</td>\n",
       "      <td>the 76 gas station is located at 91 el camino ...</td>\n",
       "    </tr>\n",
       "  </tbody>\n",
       "</table>\n",
       "</div>"
      ],
      "text/plain": [
       "                                              inputs  \\\n",
       "0                 where's the nearest parking garage   \n",
       "1  where's the nearest parking garage the nearest...   \n",
       "2  where's the nearest parking garage the nearest...   \n",
       "3                  where is the nearest gas station?   \n",
       "4  where is the nearest gas station? there is a 7...   \n",
       "\n",
       "                                             outputs  \n",
       "0  the nearest parking garage is dish parking at ...  \n",
       "1  it looks like there is a road block being repo...  \n",
       "2                               you're very welcome!  \n",
       "3                    there is a 76 76_distance away.  \n",
       "4  the 76 gas station is located at 91 el camino ...  "
      ]
     },
     "execution_count": 98,
     "metadata": {},
     "output_type": "execute_result"
    }
   ],
   "source": [
    "df1.head()"
   ]
  },
  {
   "cell_type": "code",
   "execution_count": 99,
   "metadata": {
    "collapsed": false
   },
   "outputs": [],
   "source": [
    "df1=pd.concat([df1]*3, ignore_index=True)\n",
    "df2=pd.concat([df2]*3, ignore_index=True)"
   ]
  },
  {
   "cell_type": "code",
   "execution_count": 100,
   "metadata": {
    "collapsed": false
   },
   "outputs": [],
   "source": [
    "df1=df1.sample(frac=1)\n",
    "df2=df2.sample(frac=1)"
   ]
  },
  {
   "cell_type": "code",
   "execution_count": 101,
   "metadata": {
    "collapsed": true
   },
   "outputs": [],
   "source": [
    "df1.to_csv(\"train_append_new.csv\",index=False)\n",
    "df2.to_csv(\"val_append_new.csv\",index=False)"
   ]
  },
  {
   "cell_type": "code",
   "execution_count": 102,
   "metadata": {
    "collapsed": false
   },
   "outputs": [
    {
     "data": {
      "text/html": [
       "<div>\n",
       "<table border=\"1\" class=\"dataframe\">\n",
       "  <thead>\n",
       "    <tr style=\"text-align: right;\">\n",
       "      <th></th>\n",
       "      <th>inputs</th>\n",
       "      <th>outputs</th>\n",
       "    </tr>\n",
       "  </thead>\n",
       "  <tbody>\n",
       "    <tr>\n",
       "      <th>411</th>\n",
       "      <td>give me directions to nearest mall the mall ne...</td>\n",
       "      <td>we're Town_and_Country_distance away and there...</td>\n",
       "    </tr>\n",
       "    <tr>\n",
       "      <th>1664</th>\n",
       "      <td>find some places downtown where i can park you...</td>\n",
       "      <td>it is, heading to dish parking</td>\n",
       "    </tr>\n",
       "    <tr>\n",
       "      <th>1367</th>\n",
       "      <td>what is the weather today what city do you wan...</td>\n",
       "      <td>not a problem.</td>\n",
       "    </tr>\n",
       "    <tr>\n",
       "      <th>1556</th>\n",
       "      <td>what is the weather is it going to rain</td>\n",
       "      <td>what city do you want the weather for?</td>\n",
       "    </tr>\n",
       "    <tr>\n",
       "      <th>1328</th>\n",
       "      <td>what is the date and time of my next swimming ...</td>\n",
       "      <td>you have swimming activities on swimming_activ...</td>\n",
       "    </tr>\n",
       "  </tbody>\n",
       "</table>\n",
       "</div>"
      ],
      "text/plain": [
       "                                                 inputs  \\\n",
       "411   give me directions to nearest mall the mall ne...   \n",
       "1664  find some places downtown where i can park you...   \n",
       "1367  what is the weather today what city do you wan...   \n",
       "1556            what is the weather is it going to rain   \n",
       "1328  what is the date and time of my next swimming ...   \n",
       "\n",
       "                                                outputs  \n",
       "411   we're Town_and_Country_distance away and there...  \n",
       "1664                     it is, heading to dish parking  \n",
       "1367                                     not a problem.  \n",
       "1556             what city do you want the weather for?  \n",
       "1328  you have swimming activities on swimming_activ...  "
      ]
     },
     "execution_count": 102,
     "metadata": {},
     "output_type": "execute_result"
    }
   ],
   "source": [
    "df2.head()"
   ]
  },
  {
   "cell_type": "code",
   "execution_count": 21,
   "metadata": {
    "collapsed": false
   },
   "outputs": [],
   "source": [
    "df1=pd.read_csv(\"train_append.csv\")"
   ]
  },
  {
   "cell_type": "code",
   "execution_count": 25,
   "metadata": {
    "collapsed": false
   },
   "outputs": [
    {
     "data": {
      "text/plain": [
       "Index(['inputs', 'outputs'], dtype='object')"
      ]
     },
     "execution_count": 25,
     "metadata": {},
     "output_type": "execute_result"
    }
   ],
   "source": [
    "df1.columns"
   ]
  },
  {
   "cell_type": "code",
   "execution_count": null,
   "metadata": {
    "collapsed": true
   },
   "outputs": [],
   "source": []
  }
 ],
 "metadata": {
  "kernelspec": {
   "display_name": "Python [conda root]",
   "language": "python",
   "name": "conda-root-py"
  },
  "language_info": {
   "codemirror_mode": {
    "name": "ipython",
    "version": 3
   },
   "file_extension": ".py",
   "mimetype": "text/x-python",
   "name": "python",
   "nbconvert_exporter": "python",
   "pygments_lexer": "ipython3",
   "version": "3.5.4"
  }
 },
 "nbformat": 4,
 "nbformat_minor": 0
}
