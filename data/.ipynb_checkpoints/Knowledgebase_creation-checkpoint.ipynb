{
 "cells": [
  {
   "cell_type": "code",
   "execution_count": null,
   "metadata": {
    "collapsed": false
   },
   "outputs": [],
   "source": [
    "import pandas as pd\n",
    "#f=open(\"kvret_train_public.json\")\n",
    "df=pd.read_json(\"kvret_train_public.json\")\n",
    "colnames=[]\n",
    "for i in range(len(df)):\n",
    "    colnames.append(df[\"scenario\"][i]['kb']['column_names'])\n",
    "#tuples for drive\n",
    "tuples_d=[('poi','address','val'),('poi','poi_type','val'),('poi','traffic_info','val'),('poi','distance','val')]\n",
    "#tuples for calendar\n",
    "tuples_c=[('event','time','val'),('event','room','val'),('event','party','val'),('event','agenda','val'),('event','date','val')]\n",
    "#tuples for weather\n",
    "tuples_w=[('location','monday','val'),('location','tuesday','val'),('location','wednesday','val'),\n",
    "          ('location','thursday','val'),('location','friday','val'),('location','saturday','val'),\n",
    "          ('location','sunday','val')]\n",
    "kb=[]\n",
    "for i in range(len(df)):\n",
    "    #print(i)\n",
    "    kb_i=[]\n",
    "    if df['scenario'][i]['kb']['items']:\n",
    "        if(df['scenario'][i]['kb']['column_names'][0]==\"poi\"):\n",
    "            for j in range(len(df['scenario'][i]['kb']['items'])):\n",
    "                for k in range(len(tuples_d)):\n",
    "                    tup=[]\n",
    "                    tup.append(df['scenario'][i]['kb']['items'][j][tuples_d[k][0]])\n",
    "                    tup.append(tuples_d[k][1])\n",
    "                    tup.append(df['scenario'][i]['kb']['items'][j][tuples_d[k][1]])\n",
    "                    kb_i.append(tup)\n",
    "            pass\n",
    "        elif(df['scenario'][i]['kb']['column_names'][0]==\"event\"):\n",
    "            for j in range(len(df['scenario'][i]['kb']['items'])):\n",
    "                #tup=[]\n",
    "                for k in range(len(tuples_c)):\n",
    "                    tup=[]\n",
    "                    tup.append(df['scenario'][i]['kb']['items'][j][tuples_c[k][0]])\n",
    "                    tup.append(tuples_c[k][1])\n",
    "                    tup.append(df['scenario'][i]['kb']['items'][j][tuples_c[k][1]])\n",
    "                    kb_i.append(tup)\n",
    "            pass\n",
    "        else:\n",
    "            for j in range(len(df['scenario'][i]['kb']['items'])):\n",
    "                tup=[]\n",
    "                for k in range(len(tuples_w)):\n",
    "                    tup=[]\n",
    "                    tup.append(df['scenario'][i]['kb']['items'][j][tuples_w[k][0]] )\n",
    "                    tup.append(tuples_w[k][1])\n",
    "                    tup.append(df['scenario'][i]['kb']['items'][j][tuples_w[k][1]])\n",
    "                    kb_i.append(tup)\n",
    "            pass\n",
    "    kb.append(kb_i)"
   ]
  },
  {
   "cell_type": "code",
   "execution_count": null,
   "metadata": {
    "collapsed": false
   },
   "outputs": [],
   "source": [
    "maxl=0\n",
    "for i in range(len(kb)):\n",
    "    if(len(kb[i])>maxl):\n",
    "        maxl=len(kb[i])\n",
    "print(maxl)       "
   ]
  },
  {
   "cell_type": "code",
   "execution_count": null,
   "metadata": {
    "collapsed": false
   },
   "outputs": [],
   "source": [
    "x=[]\n",
    "for li in kb:\n",
    "    for aa in li:\n",
    "        x.append('_'.join(aa[0].split(\" \"))+'_'+aa[1])\n",
    "x=list(set(x))\n",
    "print(x,len(x))\n",
    "dic={}\n",
    "for i,x_i in enumerate(x):\n",
    "    dic[i]=x_i"
   ]
  },
  {
   "cell_type": "code",
   "execution_count": 54,
   "metadata": {
    "collapsed": false,
    "scrolled": true
   },
   "outputs": [],
   "source": [
    "#Dict to json\n",
    "import json\n",
    "with open('vocabulary_kb.json', 'w') as fp:\n",
    "    json.dump(dic, fp)"
   ]
  },
  {
   "cell_type": "code",
   "execution_count": 1,
   "metadata": {
    "collapsed": false
   },
   "outputs": [
    {
     "ename": "NameError",
     "evalue": "name 'kb' is not defined",
     "output_type": "error",
     "traceback": [
      "\u001b[1;31m---------------------------------------------------------------------------\u001b[0m",
      "\u001b[1;31mNameError\u001b[0m                                 Traceback (most recent call last)",
      "\u001b[1;32m<ipython-input-1-eeb579fd52a4>\u001b[0m in \u001b[0;36m<module>\u001b[1;34m()\u001b[0m\n\u001b[1;32m----> 1\u001b[1;33m \u001b[0mkb\u001b[0m\u001b[1;33m[\u001b[0m\u001b[1;33m:\u001b[0m\u001b[1;36m3\u001b[0m\u001b[1;33m]\u001b[0m\u001b[1;33m\u001b[0m\u001b[0m\n\u001b[0m",
      "\u001b[1;31mNameError\u001b[0m: name 'kb' is not defined"
     ]
    }
   ],
   "source": [
    "kb[:3]"
   ]
  },
  {
   "cell_type": "code",
   "execution_count": 82,
   "metadata": {
    "collapsed": false
   },
   "outputs": [],
   "source": []
  }
 ],
 "metadata": {
  "kernelspec": {
   "display_name": "Python [conda root]",
   "language": "python",
   "name": "conda-root-py"
  },
  "language_info": {
   "codemirror_mode": {
    "name": "ipython",
    "version": 3
   },
   "file_extension": ".py",
   "mimetype": "text/x-python",
   "name": "python",
   "nbconvert_exporter": "python",
   "pygments_lexer": "ipython3",
   "version": "3.5.4"
  }
 },
 "nbformat": 4,
 "nbformat_minor": 0
}
