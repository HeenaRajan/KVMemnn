{
 "cells": [
  {
   "cell_type": "code",
   "execution_count": 1,
   "metadata": {
    "collapsed": true
   },
   "outputs": [],
   "source": [
    "import csv\n",
    "from elasticsearch import Elasticsearch\n",
    "import pandas as pd"
   ]
  },
  {
   "cell_type": "code",
   "execution_count": 157,
   "metadata": {
    "collapsed": false
   },
   "outputs": [
    {
     "data": {
      "text/plain": [
       "{'acknowledged': True, 'index': 'fk-index1', 'shards_acknowledged': True}"
      ]
     },
     "execution_count": 157,
     "metadata": {},
     "output_type": "execute_result"
    }
   ],
   "source": [
    "es=Elasticsearch()\n",
    "#es.indices.create(index='my-index1',ignore=400)\n",
    "es.indices.create(index='fk-index1',ignore=400)"
   ]
  },
  {
   "cell_type": "code",
   "execution_count": 156,
   "metadata": {
    "collapsed": false
   },
   "outputs": [
    {
     "data": {
      "text/plain": [
       "{'acknowledged': True}"
      ]
     },
     "execution_count": 156,
     "metadata": {},
     "output_type": "execute_result"
    }
   ],
   "source": [
    "es.indices.delete(index='fk-index1', ignore=[400, 404])"
   ]
  },
  {
   "cell_type": "code",
   "execution_count": 5,
   "metadata": {
    "collapsed": false
   },
   "outputs": [
    {
     "ename": "NameError",
     "evalue": "name 'df' is not defined",
     "output_type": "error",
     "traceback": [
      "\u001b[1;31m---------------------------------------------------------------------------\u001b[0m",
      "\u001b[1;31mNameError\u001b[0m                                 Traceback (most recent call last)",
      "\u001b[1;32m<ipython-input-5-6a4642092433>\u001b[0m in \u001b[0;36m<module>\u001b[1;34m()\u001b[0m\n\u001b[1;32m----> 1\u001b[1;33m \u001b[0mdf\u001b[0m\u001b[1;33m.\u001b[0m\u001b[0mcolumns\u001b[0m\u001b[1;33m\u001b[0m\u001b[0m\n\u001b[0m",
      "\u001b[1;31mNameError\u001b[0m: name 'df' is not defined"
     ]
    }
   ],
   "source": [
    "df.columns"
   ]
  },
  {
   "cell_type": "code",
   "execution_count": 158,
   "metadata": {
    "collapsed": false
   },
   "outputs": [],
   "source": [
    "#Flipkart data\n",
    "#df=pd.read_csv(\"train_data.csv\")\n",
    "df=pd.read_csv(\"../fkdata/trainll_fk.csv\",encoding=\"latin1\")\n",
    "for i,o in zip(list(set(df[\"context\"])),list(set(df[\"response\"]))):\n",
    "    i=i.replace(\"_\",\" \")\n",
    "    o=o.replace(\"_\",\" \")\n",
    "    #es.index(index=\"my-index1\",doc_type=\"user\",body={\"input\":i,\"response\":o})\n",
    "    es.index(index=\"fk-index1\",doc_type=\"user\",body={\"input\":i,\"response\":o})\n"
   ]
  },
  {
   "cell_type": "code",
   "execution_count": 140,
   "metadata": {
    "collapsed": false
   },
   "outputs": [],
   "source": [
    "#Flipkart data\n",
    "df=pd.read_csv(\"../fkdata/vall_fk.csv\",encoding=\"latin1\")\n",
    "for i,o in zip(list(set(df[\"context\"])),list(set(df[\"response\"]))):\n",
    "    i=i.replace(\"_\",\" \")\n",
    "    o=o.replace(\"_\",\" \")\n",
    "    #es.index(index=\"my-index1\",doc_type=\"user\",body={\"input\":i,\"response\":o})\n",
    "    es.index(index=\"fk-index1\",doc_type=\"user\",body={\"input\":i,\"response\":o})"
   ]
  },
  {
   "cell_type": "code",
   "execution_count": 114,
   "metadata": {
    "collapsed": false
   },
   "outputs": [],
   "source": [
    "df=pd.read_csv(\"train_data.csv\")\n",
    "df.dropna(inplace=True)\n",
    "for i,o in zip(list(set(df[\"inputs\"])),list(set(df[\"outputs\"]))):\n",
    "    i=i.replace(\"_\",\" \")\n",
    "    o=o.replace(\"_\",\" \")\n",
    "    es.index(index=\"my-index1\",doc_type=\"user\",body={\"input\":i,\"response\":o})\n",
    "df=pd.read_csv(\"val_data.csv\")\n",
    "df.dropna(inplace=True)\n",
    "for i,o in zip(list(set(df[\"inputs\"])),list(set(df[\"outputs\"]))):\n",
    "    i=i.replace(\"_\",\" \")\n",
    "    o=o.replace(\"_\",\" \")\n",
    "    #es.index(index=\"my-index1\",doc_type=\"user\",body={\"input\":i,\"response\":o})\n",
    "    es.index(index=\"my-index1\",doc_type=\"user\",body={\"input\":i,\"response\":o})"
   ]
  },
  {
   "cell_type": "code",
   "execution_count": 127,
   "metadata": {
    "collapsed": true
   },
   "outputs": [],
   "source": [
    "data={\"input\":[],\"response\":[],\"u1\":[],\"u2\":[],\"u3\":[],\"u4\":[],\"u5\":[]}#,\"u6\":[],\"u7\":[],\"u8\":[],\"u9\":[],\"u10\":[]}"
   ]
  },
  {
   "cell_type": "code",
   "execution_count": 153,
   "metadata": {
    "collapsed": false
   },
   "outputs": [
    {
     "name": "stdout",
     "output_type": "stream",
     "text": [
      "Error\n",
      "Error\n",
      "Error\n",
      "Error\n",
      "Error\n",
      "Error\n",
      "Error\n",
      "Error\n",
      "Error\n",
      "Error\n",
      "Error\n",
      "Error\n",
      "Error\n",
      "Error\n",
      "Error\n",
      "Error\n",
      "Error\n",
      "Error\n",
      "Error\n",
      "Error\n",
      "Error\n",
      "Error\n",
      "Error\n",
      "Error\n",
      "Error\n",
      "Error\n",
      "Error\n",
      "Error\n",
      "Error\n",
      "Error\n",
      "Error\n",
      "Error\n",
      "Error\n",
      "Error\n",
      "Error\n",
      "Error\n",
      "Error\n",
      "Error\n",
      "Error\n",
      "Error\n",
      "Error\n",
      "Error\n",
      "Error\n",
      "Error\n",
      "Error\n",
      "Error\n",
      "Error\n",
      "Error\n",
      "Error\n",
      "Error\n",
      "Error\n",
      "Error\n",
      "Error\n",
      "Error\n",
      "Error\n",
      "Error\n",
      "Error\n",
      "Error\n",
      "Error\n",
      "Error\n",
      "Error\n",
      "Error\n",
      "Error\n",
      "Error\n",
      "Error\n",
      "Error\n",
      "Error\n",
      "Error\n",
      "Error\n",
      "Error\n",
      "Error\n",
      "Error\n",
      "Error\n",
      "Error\n",
      "Error\n",
      "Error\n",
      "Error\n",
      "Error\n",
      "Error\n",
      "Error\n",
      "Error\n",
      "Error\n",
      "Error\n",
      "Error\n",
      "Error\n",
      "Error\n",
      "Error\n",
      "Error\n",
      "Error\n",
      "Error\n",
      "Error\n",
      "Error\n",
      "Error\n",
      "Error\n",
      "Error\n",
      "Error\n",
      "Error\n",
      "Error\n",
      "Error\n",
      "Error\n",
      "Error\n",
      "Error\n",
      "Error\n",
      "Error\n",
      "Error\n",
      "Error\n",
      "Error\n",
      "Error\n",
      "Error\n",
      "Error\n",
      "Error\n",
      "Error\n",
      "Error\n",
      "Error\n",
      "Error\n",
      "Error\n",
      "Error\n",
      "Error\n",
      "Error\n",
      "Error\n",
      "Error\n",
      "Error\n",
      "Error\n",
      "Error\n",
      "Error\n",
      "Error\n",
      "Error\n",
      "Error\n",
      "Error\n",
      "Error\n",
      "Error\n",
      "Error\n",
      "Error\n",
      "Error\n",
      "Error\n",
      "Error\n",
      "Error\n",
      "Error\n",
      "Error\n",
      "Error\n",
      "Error\n",
      "Error\n",
      "Error\n",
      "Error\n",
      "Error\n",
      "Error\n",
      "Error\n",
      "Error\n",
      "Error\n",
      "Error\n",
      "Error\n",
      "Error\n",
      "Error\n",
      "Error\n",
      "Error\n",
      "Error\n",
      "Error\n",
      "Error\n",
      "Error\n",
      "Error\n",
      "Error\n",
      "Error\n",
      "Error\n",
      "Error\n",
      "Error\n",
      "Error\n",
      "Error\n",
      "Error\n",
      "Error\n",
      "Error\n",
      "Error\n",
      "Error\n",
      "Error\n",
      "Error\n",
      "Error\n"
     ]
    }
   ],
   "source": [
    "#Fkdata\n",
    "dft=pd.read_csv(\"../fkdata/testll_fk.csv\",encoding=\"latin1\")\n",
    "for inp,res in zip(dft[\"context\"],dft[\"response\"]):\n",
    "    #s=es.search(index=\"my-index1\",size=10,body={\"query\":{\"match\":{\"response\":inp}}})\n",
    "    try:\n",
    "        s=es.search(index=\"fk-index1\",size=10,body={\"query\":{\"match\":{\"input\":inp}}})\n",
    "        #print(\"h\")\n",
    "        data[\"input\"].append(inp)\n",
    "        data[\"response\"].append(res)\n",
    "        for i in range(5):\n",
    "            data[\"u\"+str(i+1)].append(s['hits']['hits'][i][\"_source\"][\"response\"])\n",
    "    except:\n",
    "        print(\"Error\")\n"
   ]
  },
  {
   "cell_type": "code",
   "execution_count": 154,
   "metadata": {
    "collapsed": false
   },
   "outputs": [
    {
     "data": {
      "text/plain": [
       "6158"
      ]
     },
     "execution_count": 154,
     "metadata": {},
     "output_type": "execute_result"
    }
   ],
   "source": [
    "len(data[\"u1\"])"
   ]
  },
  {
   "cell_type": "code",
   "execution_count": 116,
   "metadata": {
    "collapsed": false
   },
   "outputs": [],
   "source": [
    "dft=pd.read_csv(\"testing_complete1.csv\")\n",
    "for inp,res in zip(dft[\"inputs\"],dft[\"outputs\"]):\n",
    "    #s=es.search(index=\"my-index1\",size=10,body={\"query\":{\"match\":{\"response\":inp}}})\n",
    "    s=es.search(index=\"my-index1\",size=10,body={\"query\":{\"match\":{\"response\":inp}}})\n",
    "    data[\"input\"].append(inp)\n",
    "    data[\"response\"].append(res)\n",
    "    for i in range(5):\n",
    "        data[\"u\"+str(i+1)].append(s['hits']['hits'][i][\"_source\"][\"response\"])\n"
   ]
  },
  {
   "cell_type": "code",
   "execution_count": 155,
   "metadata": {
    "collapsed": false
   },
   "outputs": [],
   "source": [
    "dfd=pd.DataFrame(data)\n",
    "dfd.to_csv(\"ranked_responsesfk_wkb1.csv\")"
   ]
  },
  {
   "cell_type": "code",
   "execution_count": 81,
   "metadata": {
    "collapsed": false
   },
   "outputs": [],
   "source": [
    "dfd=pd.DataFrame(data)\n",
    "dfd.to_csv(\"rankedfk_responses_kb.csv\")"
   ]
  },
  {
   "cell_type": "code",
   "execution_count": 93,
   "metadata": {
    "collapsed": false
   },
   "outputs": [
    {
     "ename": "NameError",
     "evalue": "name 'hi' is not defined",
     "output_type": "error",
     "traceback": [
      "\u001b[1;31m---------------------------------------------------------------------------\u001b[0m",
      "\u001b[1;31mNameError\u001b[0m                                 Traceback (most recent call last)",
      "\u001b[1;32m<ipython-input-93-764efa883dda>\u001b[0m in \u001b[0;36m<module>\u001b[1;34m()\u001b[0m\n\u001b[1;32m----> 1\u001b[1;33m \u001b[0mhi\u001b[0m\u001b[1;33m\u001b[0m\u001b[0m\n\u001b[0m",
      "\u001b[1;31mNameError\u001b[0m: name 'hi' is not defined"
     ]
    }
   ],
   "source": [
    "hi"
   ]
  },
  {
   "cell_type": "code",
   "execution_count": 36,
   "metadata": {
    "collapsed": false
   },
   "outputs": [
    {
     "data": {
      "text/plain": [
       "1332"
      ]
     },
     "execution_count": 36,
     "metadata": {},
     "output_type": "execute_result"
    }
   ],
   "source": [
    "len(dfd)"
   ]
  },
  {
   "cell_type": "code",
   "execution_count": null,
   "metadata": {
    "collapsed": true
   },
   "outputs": [],
   "source": []
  }
 ],
 "metadata": {
  "kernelspec": {
   "display_name": "Python [conda env:Anaconda3]",
   "language": "python",
   "name": "conda-env-Anaconda3-py"
  },
  "language_info": {
   "codemirror_mode": {
    "name": "ipython",
    "version": 3
   },
   "file_extension": ".py",
   "mimetype": "text/x-python",
   "name": "python",
   "nbconvert_exporter": "python",
   "pygments_lexer": "ipython3",
   "version": "3.5.4"
  }
 },
 "nbformat": 4,
 "nbformat_minor": 0
}
