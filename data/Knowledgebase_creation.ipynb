{
 "cells": [
  {
   "cell_type": "code",
   "execution_count": 4,
   "metadata": {
    "collapsed": false
   },
   "outputs": [],
   "source": [
    "import pandas as pd\n",
    "#f=open(\"kvret_train_public.json\")\n",
    "df=pd.read_json(\"kvret_train_public.json\")\n",
    "colnames=[]\n",
    "for i in range(len(df)):\n",
    "    colnames.append(df[\"scenario\"][i]['kb']['column_names'])\n",
    "#tuples for drive\n",
    "tuples_d=[('poi','address','val'),('poi','poi_type','val'),('poi','traffic_info','val'),('poi','distance','val')]\n",
    "#tuples for calendar\n",
    "tuples_c=[('event','time','val'),('event','room','val'),('event','party','val'),('event','agenda','val'),('event','date','val')]\n",
    "#tuples for weather\n",
    "tuples_w=[('location','monday','val'),('location','tuesday','val'),('location','wednesday','val'),\n",
    "          ('location','thursday','val'),('location','friday','val'),('location','saturday','val'),\n",
    "          ('location','sunday','val')]\n",
    "kb=[]\n",
    "for i in range(len(df)):\n",
    "    #print(i)\n",
    "    kb_i=[]\n",
    "    if df['scenario'][i]['kb']['items']:\n",
    "        if(df['scenario'][i]['kb']['column_names'][0]==\"poi\"):\n",
    "            for j in range(len(df['scenario'][i]['kb']['items'])):\n",
    "                for k in range(len(tuples_d)):\n",
    "                    tup=[]\n",
    "                    tup.append(df['scenario'][i]['kb']['items'][j][tuples_d[k][0]])\n",
    "                    tup.append(tuples_d[k][1])\n",
    "                    tup.append(df['scenario'][i]['kb']['items'][j][tuples_d[k][1]])\n",
    "                    kb_i.append(tup)\n",
    "            pass\n",
    "        elif(df['scenario'][i]['kb']['column_names'][0]==\"event\"):\n",
    "            for j in range(len(df['scenario'][i]['kb']['items'])):\n",
    "                #tup=[]\n",
    "                for k in range(len(tuples_c)):\n",
    "                    tup=[]\n",
    "                    tup.append(df['scenario'][i]['kb']['items'][j][tuples_c[k][0]])\n",
    "                    tup.append(tuples_c[k][1])\n",
    "                    tup.append(df['scenario'][i]['kb']['items'][j][tuples_c[k][1]])\n",
    "                    kb_i.append(tup)\n",
    "            pass\n",
    "        else:\n",
    "            for j in range(len(df['scenario'][i]['kb']['items'])):\n",
    "                tup=[]\n",
    "                for k in range(len(tuples_w)):\n",
    "                    tup=[]\n",
    "                    tup.append(df['scenario'][i]['kb']['items'][j][tuples_w[k][0]] )\n",
    "                    tup.append(tuples_w[k][1])\n",
    "                    tup.append(df['scenario'][i]['kb']['items'][j][tuples_w[k][1]])\n",
    "                    kb_i.append(tup)\n",
    "            pass\n",
    "    kb.append(kb_i)"
   ]
  },
  {
   "cell_type": "code",
   "execution_count": 82,
   "metadata": {
    "collapsed": false
   },
   "outputs": [],
   "source": []
  }
 ],
 "metadata": {
  "kernelspec": {
   "display_name": "Python [conda root]",
   "language": "python",
   "name": "conda-root-py"
  },
  "language_info": {
   "codemirror_mode": {
    "name": "ipython",
    "version": 3
   },
   "file_extension": ".py",
   "mimetype": "text/x-python",
   "name": "python",
   "nbconvert_exporter": "python",
   "pygments_lexer": "ipython3",
   "version": "3.5.4"
  }
 },
 "nbformat": 4,
 "nbformat_minor": 0
}
