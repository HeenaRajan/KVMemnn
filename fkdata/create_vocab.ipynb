{
 "cells": [
  {
   "cell_type": "code",
   "execution_count": 15,
   "metadata": {
    "collapsed": false
   },
   "outputs": [],
   "source": [
    "#On flikpkart dataset\n",
    "import pandas as pd\n",
    "df=pd.read_csv(\"trainl_fk.csv\",encoding=\"latin1\")\n",
    "chats_complete=list(df[\"context\"])\n",
    "chats_complete.extend(list(df[\"response\"]))\n",
    "from keras.preprocessing.text import Tokenizer\n",
    "t=Tokenizer(1000)\n",
    "t.fit_on_texts(chats_complete)\n",
    "t.num_words=100\n",
    "#t.texts_to_sequences(inputs)\n",
    "vocab=t.word_index"
   ]
  },
  {
   "cell_type": "code",
   "execution_count": 25,
   "metadata": {
    "collapsed": false
   },
   "outputs": [],
   "source": [
    "nvocab={}\n",
    "for k,v in vocab.items():\n",
    "    if v<=3000:\n",
    "        nvocab[k]=v-1\n"
   ]
  },
  {
   "cell_type": "code",
   "execution_count": 26,
   "metadata": {
    "collapsed": true
   },
   "outputs": [],
   "source": [
    "#Dict to json\n",
    "import json\n",
    "with open('vocabulary_fk.json', 'w') as fp:\n",
    "    json.dump(nvocab, fp)"
   ]
  },
  {
   "cell_type": "code",
   "execution_count": 21,
   "metadata": {
    "collapsed": false
   },
   "outputs": [
    {
     "data": {
      "text/plain": [
       "18576"
      ]
     },
     "execution_count": 21,
     "metadata": {},
     "output_type": "execute_result"
    }
   ],
   "source": [
    "from gensim.corpora import Dictionary\n",
    "data=[]\n",
    "for chat in chats_complete:\n",
    "    data.append(chat.split(\" \"))"
   ]
  },
  {
   "cell_type": "code",
   "execution_count": null,
   "metadata": {
    "collapsed": true
   },
   "outputs": [],
   "source": []
  }
 ],
 "metadata": {
  "kernelspec": {
   "display_name": "Python [conda env:Anaconda3]",
   "language": "python",
   "name": "conda-env-Anaconda3-py"
  },
  "language_info": {
   "codemirror_mode": {
    "name": "ipython",
    "version": 3
   },
   "file_extension": ".py",
   "mimetype": "text/x-python",
   "name": "python",
   "nbconvert_exporter": "python",
   "pygments_lexer": "ipython3",
   "version": "3.5.4"
  }
 },
 "nbformat": 4,
 "nbformat_minor": 0
}
