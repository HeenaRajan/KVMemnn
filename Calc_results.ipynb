{
 "cells": [
  {
   "cell_type": "code",
   "execution_count": 1,
   "metadata": {
    "collapsed": true
   },
   "outputs": [],
   "source": [
    "import pandas as pd\n",
    "import numpy as np"
   ]
  },
  {
   "cell_type": "code",
   "execution_count": 36,
   "metadata": {
    "collapsed": false
   },
   "outputs": [],
   "source": [
    "i_df=pd.read_csv(\"vectors_input.csv\",encoding=\"latin1\")\n",
    "o_df=pd.read_csv(\"vectors_output.csv\",encoding=\"latin1\")"
   ]
  },
  {
   "cell_type": "code",
   "execution_count": 124,
   "metadata": {
    "collapsed": false
   },
   "outputs": [],
   "source": [
    "df_i=pd.read_csv(\"fkdata/testl_fk.csv\",encoding=\"latin1\")\n",
    "df_o=pd.read_csv(\"data/re_train_lstmfk_kb.csv\",encoding=\"latin1\")"
   ]
  },
  {
   "cell_type": "code",
   "execution_count": 129,
   "metadata": {
    "collapsed": false
   },
   "outputs": [
    {
     "data": {
      "text/plain": [
       "Index(['Unnamed: 0', 'context', 'response'], dtype='object')"
      ]
     },
     "execution_count": 129,
     "metadata": {},
     "output_type": "execute_result"
    }
   ],
   "source": [
    "df_i.columns"
   ]
  },
  {
   "cell_type": "code",
   "execution_count": 93,
   "metadata": {
    "collapsed": false
   },
   "outputs": [],
   "source": [
    "data_i=[]\n",
    "for i in range(len(i_df[\"vector\"])):\n",
    "    x=i_df[\"vector\"][i].replace(\"\\r\",\"\").replace(\"\\n\",\"\").replace(\"  \",\" \").strip(\"[] \").split(\" \")\n",
    "    data_i.append([float(a) for a in x if a != ''])"
   ]
  },
  {
   "cell_type": "code",
   "execution_count": 94,
   "metadata": {
    "collapsed": false
   },
   "outputs": [],
   "source": [
    "data_o=[]\n",
    "for i in range(len(o_df[\"vector\"])):\n",
    "    x=o_df[\"vector\"][i].replace(\"\\r\",\"\").replace(\"\\n\",\"\").replace(\"  \",\" \").strip(\"[] \").split(\" \")\n",
    "    data_o.append([float(a) for a in x if a != ''])"
   ]
  },
  {
   "cell_type": "code",
   "execution_count": 96,
   "metadata": {
    "collapsed": false
   },
   "outputs": [],
   "source": [
    "dist=[]\n",
    "for i in range(len(i_df[\"vector\"])):\n",
    "    tmp=[]\n",
    "    for j in range(len(o_df[\"vector\"])):\n",
    "        tmp.append(np.linalg.norm(np.array(data_i[i])-np.array(data_o[j])))\n",
    "    dist.append(tmp)"
   ]
  },
  {
   "cell_type": "code",
   "execution_count": 113,
   "metadata": {
    "collapsed": false
   },
   "outputs": [],
   "source": [
    "all_indices=[]\n",
    "for i in range(len(dist)):\n",
    "    tmp=sorted(dist[i])\n",
    "    tmp=tmp[:5]\n",
    "    indices=[dist[i].index(t) for t in tmp]\n",
    "    all_indices.append(indices)"
   ]
  },
  {
   "cell_type": "code",
   "execution_count": 135,
   "metadata": {
    "collapsed": false
   },
   "outputs": [
    {
     "data": {
      "text/html": [
       "<div>\n",
       "<table border=\"1\" class=\"dataframe\">\n",
       "  <thead>\n",
       "    <tr style=\"text-align: right;\">\n",
       "      <th></th>\n",
       "      <th>context</th>\n",
       "      <th>response</th>\n",
       "      <th>u1</th>\n",
       "      <th>u2</th>\n",
       "      <th>u3</th>\n",
       "      <th>u4</th>\n",
       "      <th>u5</th>\n",
       "    </tr>\n",
       "  </thead>\n",
       "  <tbody>\n",
       "    <tr>\n",
       "      <th>0</th>\n",
       "      <td>Sir i have a items in cart it when i select it...</td>\n",
       "      <td>I'm sorry to hear that. Thanks for sharing the...</td>\n",
       "      <td>Hi  customer_name . I'm sorry for that. Just t...</td>\n",
       "      <td>Hi  customer_name . I'm sorry to hear that. Ju...</td>\n",
       "      <td>Hi  customer_name . I'm sorry to hear that. Ju...</td>\n",
       "      <td>Please go ahead. I'll be more than happy to ch...</td>\n",
       "      <td>May I know, if the product got delivered to yo...</td>\n",
       "    </tr>\n",
       "    <tr>\n",
       "      <th>1</th>\n",
       "      <td>Sir i have a items in cart it when i select it...</td>\n",
       "      <td>Are you referring to the product  product_name ?</td>\n",
       "      <td>Are you referring to the product  product_name ?</td>\n",
       "      <td>Are you referring to the product  product_name ?</td>\n",
       "      <td>Are you referring to the product  product_name ?</td>\n",
       "      <td>Are you referring the product  product_name ?</td>\n",
       "      <td>Are you referring the product  product_name ?</td>\n",
       "    </tr>\n",
       "    <tr>\n",
       "      <th>2</th>\n",
       "      <td>Sir i have a items in cart it when i select it...</td>\n",
       "      <td>Thanks for the confirmation. I would request y...</td>\n",
       "      <td>Hi  customer_name ! I'm sorry for the delay in...</td>\n",
       "      <td>Hi  customer_name ! I'm sorry for the delay in...</td>\n",
       "      <td>Hi  customer_name ! I'm sorry for the delay in...</td>\n",
       "      <td>Hi  customer_name ! I'm sorry for the delay in...</td>\n",
       "      <td>You are welcome. Please let me know the issue ...</td>\n",
       "    </tr>\n",
       "    <tr>\n",
       "      <th>3</th>\n",
       "      <td>Ok, thanks a lot... I just forgot my password ...</td>\n",
       "      <td>Not to worry, I will help you to recover the p...</td>\n",
       "      <td>I'm sorry to hear that the updated mobile numb...</td>\n",
       "      <td>Please give me a minute or two, I will check f...</td>\n",
       "      <td>Thanks for confirming. I request you to please...</td>\n",
       "      <td>I am sorry to know that you are thinking to ca...</td>\n",
       "      <td>Thanks for sharing the details. Let me look up...</td>\n",
       "    </tr>\n",
       "    <tr>\n",
       "      <th>4</th>\n",
       "      <td>Ok, thanks a lot... I just forgot my password ...</td>\n",
       "      <td>Yes,  customer_name . Just follow these simple...</td>\n",
       "      <td>Please give me a minute or two so that I check...</td>\n",
       "      <td>Hi  customer_name . Please give me a minute or...</td>\n",
       "      <td>Please give me a minute or two, I will check f...</td>\n",
       "      <td>Hi, how may I help you today? Shall I cancel o...</td>\n",
       "      <td>How may I assist you today? I'm sorry to hear ...</td>\n",
       "    </tr>\n",
       "  </tbody>\n",
       "</table>\n",
       "</div>"
      ],
      "text/plain": [
       "                                             context  \\\n",
       "0  Sir i have a items in cart it when i select it...   \n",
       "1  Sir i have a items in cart it when i select it...   \n",
       "2  Sir i have a items in cart it when i select it...   \n",
       "3  Ok, thanks a lot... I just forgot my password ...   \n",
       "4  Ok, thanks a lot... I just forgot my password ...   \n",
       "\n",
       "                                            response  \\\n",
       "0  I'm sorry to hear that. Thanks for sharing the...   \n",
       "1   Are you referring to the product  product_name ?   \n",
       "2  Thanks for the confirmation. I would request y...   \n",
       "3  Not to worry, I will help you to recover the p...   \n",
       "4  Yes,  customer_name . Just follow these simple...   \n",
       "\n",
       "                                                  u1  \\\n",
       "0  Hi  customer_name . I'm sorry for that. Just t...   \n",
       "1   Are you referring to the product  product_name ?   \n",
       "2  Hi  customer_name ! I'm sorry for the delay in...   \n",
       "3  I'm sorry to hear that the updated mobile numb...   \n",
       "4  Please give me a minute or two so that I check...   \n",
       "\n",
       "                                                  u2  \\\n",
       "0  Hi  customer_name . I'm sorry to hear that. Ju...   \n",
       "1   Are you referring to the product  product_name ?   \n",
       "2  Hi  customer_name ! I'm sorry for the delay in...   \n",
       "3  Please give me a minute or two, I will check f...   \n",
       "4  Hi  customer_name . Please give me a minute or...   \n",
       "\n",
       "                                                  u3  \\\n",
       "0  Hi  customer_name . I'm sorry to hear that. Ju...   \n",
       "1   Are you referring to the product  product_name ?   \n",
       "2  Hi  customer_name ! I'm sorry for the delay in...   \n",
       "3  Thanks for confirming. I request you to please...   \n",
       "4  Please give me a minute or two, I will check f...   \n",
       "\n",
       "                                                  u4  \\\n",
       "0  Please go ahead. I'll be more than happy to ch...   \n",
       "1      Are you referring the product  product_name ?   \n",
       "2  Hi  customer_name ! I'm sorry for the delay in...   \n",
       "3  I am sorry to know that you are thinking to ca...   \n",
       "4  Hi, how may I help you today? Shall I cancel o...   \n",
       "\n",
       "                                                  u5  \n",
       "0  May I know, if the product got delivered to yo...  \n",
       "1      Are you referring the product  product_name ?  \n",
       "2  You are welcome. Please let me know the issue ...  \n",
       "3  Thanks for sharing the details. Let me look up...  \n",
       "4  How may I assist you today? I'm sorry to hear ...  "
      ]
     },
     "execution_count": 135,
     "metadata": {},
     "output_type": "execute_result"
    }
   ],
   "source": [
    "retrieved={\"context\":[],\"response\":[],\"u1\":[],\"u2\":[],\"u3\":[],\"u4\":[],\"u5\":[]}\n",
    "for i,indices in enumerate(all_indices):\n",
    "    retrieved[\"context\"].append(df_i[\"context\"][i])\n",
    "    retrieved[\"response\"].append(df_i[\"response\"][i])\n",
    "    for j,index in enumerate(indices):\n",
    "        retrieved[\"u\"+str(j+1)].append(df_o[\"outputs\"][index])\n",
    "ndf=pd.DataFrame(retrieved)\n",
    "\n",
    "ndf.head()   "
   ]
  },
  {
   "cell_type": "code",
   "execution_count": 137,
   "metadata": {
    "collapsed": false
   },
   "outputs": [
    {
     "data": {
      "text/html": [
       "<div>\n",
       "<table border=\"1\" class=\"dataframe\">\n",
       "  <thead>\n",
       "    <tr style=\"text-align: right;\">\n",
       "      <th></th>\n",
       "      <th>context</th>\n",
       "      <th>response</th>\n",
       "      <th>u1</th>\n",
       "      <th>u2</th>\n",
       "      <th>u3</th>\n",
       "      <th>u4</th>\n",
       "      <th>u5</th>\n",
       "    </tr>\n",
       "  </thead>\n",
       "  <tbody>\n",
       "    <tr>\n",
       "      <th>0</th>\n",
       "      <td>Sir i have a items in cart it when i select it...</td>\n",
       "      <td>I'm sorry to hear that. Thanks for sharing the...</td>\n",
       "      <td>Hi  customer_name . I'm sorry for that. Just t...</td>\n",
       "      <td>Hi  customer_name . I'm sorry to hear that. Ju...</td>\n",
       "      <td>Hi  customer_name . I'm sorry to hear that. Ju...</td>\n",
       "      <td>Please go ahead. I'll be more than happy to ch...</td>\n",
       "      <td>May I know, if the product got delivered to yo...</td>\n",
       "    </tr>\n",
       "    <tr>\n",
       "      <th>1</th>\n",
       "      <td>Sir i have a items in cart it when i select it...</td>\n",
       "      <td>Are you referring to the product  product_name ?</td>\n",
       "      <td>Are you referring to the product  product_name ?</td>\n",
       "      <td>Are you referring to the product  product_name ?</td>\n",
       "      <td>Are you referring to the product  product_name ?</td>\n",
       "      <td>Are you referring the product  product_name ?</td>\n",
       "      <td>Are you referring the product  product_name ?</td>\n",
       "    </tr>\n",
       "    <tr>\n",
       "      <th>2</th>\n",
       "      <td>Sir i have a items in cart it when i select it...</td>\n",
       "      <td>Thanks for the confirmation. I would request y...</td>\n",
       "      <td>Hi  customer_name ! I'm sorry for the delay in...</td>\n",
       "      <td>Hi  customer_name ! I'm sorry for the delay in...</td>\n",
       "      <td>Hi  customer_name ! I'm sorry for the delay in...</td>\n",
       "      <td>Hi  customer_name ! I'm sorry for the delay in...</td>\n",
       "      <td>You are welcome. Please let me know the issue ...</td>\n",
       "    </tr>\n",
       "    <tr>\n",
       "      <th>3</th>\n",
       "      <td>Ok, thanks a lot... I just forgot my password ...</td>\n",
       "      <td>Not to worry, I will help you to recover the p...</td>\n",
       "      <td>I'm sorry to hear that the updated mobile numb...</td>\n",
       "      <td>Please give me a minute or two, I will check f...</td>\n",
       "      <td>Thanks for confirming. I request you to please...</td>\n",
       "      <td>I am sorry to know that you are thinking to ca...</td>\n",
       "      <td>Thanks for sharing the details. Let me look up...</td>\n",
       "    </tr>\n",
       "    <tr>\n",
       "      <th>4</th>\n",
       "      <td>Ok, thanks a lot... I just forgot my password ...</td>\n",
       "      <td>Yes,  customer_name . Just follow these simple...</td>\n",
       "      <td>Please give me a minute or two so that I check...</td>\n",
       "      <td>Hi  customer_name . Please give me a minute or...</td>\n",
       "      <td>Please give me a minute or two, I will check f...</td>\n",
       "      <td>Hi, how may I help you today? Shall I cancel o...</td>\n",
       "      <td>How may I assist you today? I'm sorry to hear ...</td>\n",
       "    </tr>\n",
       "    <tr>\n",
       "      <th>5</th>\n",
       "      <td>Ok, thanks a lot... I just forgot my password ...</td>\n",
       "      <td>Please give me a minute or two, let me check t...</td>\n",
       "      <td>Your order has been placed and it'll be proces...</td>\n",
       "      <td>Your order has been placed and it'll be proces...</td>\n",
       "      <td>Your order has been placed and it'll be proces...</td>\n",
       "      <td>Your order has been placed and it'll be proces...</td>\n",
       "      <td>Your order has been placed and it'll be proces...</td>\n",
       "    </tr>\n",
       "    <tr>\n",
       "      <th>6</th>\n",
       "      <td>Ok, thanks a lot... I just forgot my password ...</td>\n",
       "      <td>Please be rest assured. We will make sure to d...</td>\n",
       "      <td>Yes  customer_name , our team will call at the...</td>\n",
       "      <td>I assure you that you will receive the call ba...</td>\n",
       "      <td>I assure you that, we will resolve the issue a...</td>\n",
       "      <td>I assure you that, we will resolve the issue a...</td>\n",
       "      <td>I assure you that your issue will resolve as p...</td>\n",
       "    </tr>\n",
       "    <tr>\n",
       "      <th>7</th>\n",
       "      <td>Ok, thanks a lot... I just forgot my password ...</td>\n",
       "      <td>Thanks for your kind understanding.  Is there ...</td>\n",
       "      <td>Thank you for your kind understanding. Is ther...</td>\n",
       "      <td>Thanks for your patience and understanding. Is...</td>\n",
       "      <td>Thanks for your patience and understanding. Is...</td>\n",
       "      <td>Thank you for understanding,  customer_name . ...</td>\n",
       "      <td>We'll do our best in this regard. Is there any...</td>\n",
       "    </tr>\n",
       "    <tr>\n",
       "      <th>8</th>\n",
       "      <td>Ok, thanks a lot... I just forgot my password ...</td>\n",
       "      <td>You are welcome.  It was a pleasure assisting ...</td>\n",
       "      <td>It was a pleasure assisting you  customer_name...</td>\n",
       "      <td>Sorry about that,  customer_name . We'll make ...</td>\n",
       "      <td>It was a pleasure assisting you  customer_name...</td>\n",
       "      <td>It was a pleasure assisting you  customer_name...</td>\n",
       "      <td>It was a pleasure assisting you  customer_name...</td>\n",
       "    </tr>\n",
       "    <tr>\n",
       "      <th>9</th>\n",
       "      <td>Ok, thanks a lot... I just forgot my password ...</td>\n",
       "      <td>Could you please provide the Pin code?</td>\n",
       "      <td>I am sorry I am unable to call you at the move...</td>\n",
       "      <td>I'm sorry that,  language  call back is not av...</td>\n",
       "      <td>Your issue has been escalated to the concerned...</td>\n",
       "      <td>I understand your concern.  customer_name , pl...</td>\n",
       "      <td>If you wish, you can call the Wishmaster now t...</td>\n",
       "    </tr>\n",
       "  </tbody>\n",
       "</table>\n",
       "</div>"
      ],
      "text/plain": [
       "                                             context  \\\n",
       "0  Sir i have a items in cart it when i select it...   \n",
       "1  Sir i have a items in cart it when i select it...   \n",
       "2  Sir i have a items in cart it when i select it...   \n",
       "3  Ok, thanks a lot... I just forgot my password ...   \n",
       "4  Ok, thanks a lot... I just forgot my password ...   \n",
       "5  Ok, thanks a lot... I just forgot my password ...   \n",
       "6  Ok, thanks a lot... I just forgot my password ...   \n",
       "7  Ok, thanks a lot... I just forgot my password ...   \n",
       "8  Ok, thanks a lot... I just forgot my password ...   \n",
       "9  Ok, thanks a lot... I just forgot my password ...   \n",
       "\n",
       "                                            response  \\\n",
       "0  I'm sorry to hear that. Thanks for sharing the...   \n",
       "1   Are you referring to the product  product_name ?   \n",
       "2  Thanks for the confirmation. I would request y...   \n",
       "3  Not to worry, I will help you to recover the p...   \n",
       "4  Yes,  customer_name . Just follow these simple...   \n",
       "5  Please give me a minute or two, let me check t...   \n",
       "6  Please be rest assured. We will make sure to d...   \n",
       "7  Thanks for your kind understanding.  Is there ...   \n",
       "8  You are welcome.  It was a pleasure assisting ...   \n",
       "9             Could you please provide the Pin code?   \n",
       "\n",
       "                                                  u1  \\\n",
       "0  Hi  customer_name . I'm sorry for that. Just t...   \n",
       "1   Are you referring to the product  product_name ?   \n",
       "2  Hi  customer_name ! I'm sorry for the delay in...   \n",
       "3  I'm sorry to hear that the updated mobile numb...   \n",
       "4  Please give me a minute or two so that I check...   \n",
       "5  Your order has been placed and it'll be proces...   \n",
       "6  Yes  customer_name , our team will call at the...   \n",
       "7  Thank you for your kind understanding. Is ther...   \n",
       "8  It was a pleasure assisting you  customer_name...   \n",
       "9  I am sorry I am unable to call you at the move...   \n",
       "\n",
       "                                                  u2  \\\n",
       "0  Hi  customer_name . I'm sorry to hear that. Ju...   \n",
       "1   Are you referring to the product  product_name ?   \n",
       "2  Hi  customer_name ! I'm sorry for the delay in...   \n",
       "3  Please give me a minute or two, I will check f...   \n",
       "4  Hi  customer_name . Please give me a minute or...   \n",
       "5  Your order has been placed and it'll be proces...   \n",
       "6  I assure you that you will receive the call ba...   \n",
       "7  Thanks for your patience and understanding. Is...   \n",
       "8  Sorry about that,  customer_name . We'll make ...   \n",
       "9  I'm sorry that,  language  call back is not av...   \n",
       "\n",
       "                                                  u3  \\\n",
       "0  Hi  customer_name . I'm sorry to hear that. Ju...   \n",
       "1   Are you referring to the product  product_name ?   \n",
       "2  Hi  customer_name ! I'm sorry for the delay in...   \n",
       "3  Thanks for confirming. I request you to please...   \n",
       "4  Please give me a minute or two, I will check f...   \n",
       "5  Your order has been placed and it'll be proces...   \n",
       "6  I assure you that, we will resolve the issue a...   \n",
       "7  Thanks for your patience and understanding. Is...   \n",
       "8  It was a pleasure assisting you  customer_name...   \n",
       "9  Your issue has been escalated to the concerned...   \n",
       "\n",
       "                                                  u4  \\\n",
       "0  Please go ahead. I'll be more than happy to ch...   \n",
       "1      Are you referring the product  product_name ?   \n",
       "2  Hi  customer_name ! I'm sorry for the delay in...   \n",
       "3  I am sorry to know that you are thinking to ca...   \n",
       "4  Hi, how may I help you today? Shall I cancel o...   \n",
       "5  Your order has been placed and it'll be proces...   \n",
       "6  I assure you that, we will resolve the issue a...   \n",
       "7  Thank you for understanding,  customer_name . ...   \n",
       "8  It was a pleasure assisting you  customer_name...   \n",
       "9  I understand your concern.  customer_name , pl...   \n",
       "\n",
       "                                                  u5  \n",
       "0  May I know, if the product got delivered to yo...  \n",
       "1      Are you referring the product  product_name ?  \n",
       "2  You are welcome. Please let me know the issue ...  \n",
       "3  Thanks for sharing the details. Let me look up...  \n",
       "4  How may I assist you today? I'm sorry to hear ...  \n",
       "5  Your order has been placed and it'll be proces...  \n",
       "6  I assure you that your issue will resolve as p...  \n",
       "7  We'll do our best in this regard. Is there any...  \n",
       "8  It was a pleasure assisting you  customer_name...  \n",
       "9  If you wish, you can call the Wishmaster now t...  "
      ]
     },
     "execution_count": 137,
     "metadata": {},
     "output_type": "execute_result"
    }
   ],
   "source": [
    "ndf[:10]"
   ]
  },
  {
   "cell_type": "code",
   "execution_count": 136,
   "metadata": {
    "collapsed": true
   },
   "outputs": [],
   "source": [
    "ndf.to_csv(\"data/lstm_retrieved.csv\")"
   ]
  },
  {
   "cell_type": "code",
   "execution_count": 35,
   "metadata": {
    "collapsed": false
   },
   "outputs": [
    {
     "data": {
      "text/plain": [
       "array('[[ 0.11876559 -0.1536379  -0.1526875  -0.06531129  0.08042499 -0.08880127   0.08702176  0.09141679  0.04578279  0.29907557 -0.04764974 -0.1573458  -0.07041945  0.00897088 -0.11430497  0.07034189  0.23203672  0.01872288  -0.17508687 -0.35588363  0.00962986  0.14672156  0.24628769 -0.10521511   0.06482697  0.16422227 -0.07424492  0.19111693  0.16312739  0.10722612  -0.01313453  0.2437232   0.31978172 -0.02642165 -0.04302021  0.06235002   0.07947138 -0.11596917  0.1804616  -0.01622856  0.17883289 -0.07686947  -0.15057695 -0.10612284  0.2743049  -0.00646168  0.18660219 -0.00693587  -0.12952591  0.07083916]]', \n",
       "      dtype='<U610')"
      ]
     },
     "execution_count": 35,
     "metadata": {},
     "output_type": "execute_result"
    }
   ],
   "source": [
    "np.array(i_df[\"vector\"][4].replace(\"\\r\",\"\").replace(\"\\n\",\"\"))"
   ]
  },
  {
   "cell_type": "code",
   "execution_count": null,
   "metadata": {
    "collapsed": true
   },
   "outputs": [],
   "source": []
  }
 ],
 "metadata": {
  "kernelspec": {
   "display_name": "Python [conda env:Anaconda3]",
   "language": "python",
   "name": "conda-env-Anaconda3-py"
  },
  "language_info": {
   "codemirror_mode": {
    "name": "ipython",
    "version": 3
   },
   "file_extension": ".py",
   "mimetype": "text/x-python",
   "name": "python",
   "nbconvert_exporter": "python",
   "pygments_lexer": "ipython3",
   "version": "3.5.4"
  }
 },
 "nbformat": 4,
 "nbformat_minor": 0
}
